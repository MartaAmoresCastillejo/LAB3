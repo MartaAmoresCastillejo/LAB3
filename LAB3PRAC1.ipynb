{
  "nbformat": 4,
  "nbformat_minor": 0,
  "metadata": {
    "colab": {
      "provenance": [],
      "authorship_tag": "ABX9TyPWztBrkgQBXMULEEr9Gt0C",
      "include_colab_link": true
    },
    "kernelspec": {
      "name": "python3",
      "display_name": "Python 3"
    },
    "language_info": {
      "name": "python"
    }
  },
  "cells": [
    {
      "cell_type": "markdown",
      "metadata": {
        "id": "view-in-github",
        "colab_type": "text"
      },
      "source": [
        "<a href=\"https://colab.research.google.com/github/MartaAmoresCastillejo/LAB3/blob/main/LAB3PRAC1.ipynb\" target=\"_parent\"><img src=\"https://colab.research.google.com/assets/colab-badge.svg\" alt=\"Open In Colab\"/></a>"
      ]
    },
    {
      "cell_type": "markdown",
      "source": [
        "## Ejercicio 1"
      ],
      "metadata": {
        "id": "fPbSyyoxEBhS"
      }
    },
    {
      "cell_type": "markdown",
      "source": [
        "Se quiere crear un modelo que permita saber si un atleta español va a tener medalla de oro, plata o bronce\n",
        "en los juegos olímpicos de Tokio que se celebrarán en 2020."
      ],
      "metadata": {
        "id": "97_Q0NrMEE_G"
      }
    },
    {
      "cell_type": "code",
      "execution_count": 1,
      "metadata": {
        "id": "XZqjaPThvT_e"
      },
      "outputs": [],
      "source": [
        "import numpy as np \n",
        "import pandas as pd \n",
        "import sklearn as sk \n",
        "import matplotlib.pyplot as plt \n",
        "from matplotlib.cbook import boxplot_stats \n",
        "from math import sqrt \n",
        "from mlxtend.preprocessing import TransactionEncoder\n",
        "from mlxtend.frequent_patterns import apriori, association_rules\n",
        "from sklearn.model_selection import train_test_split, cross_val_score, cross_val_predict\n",
        "from sklearn.neighbors import KNeighborsClassifier\n",
        "from sklearn.metrics import accuracy_score, mean_squared_error, confusion_matrix\n",
        "from sklearn.preprocessing import StandardScaler, LabelEncoder, OneHotEncoder\n",
        "from sklearn.decomposition import PCA\n",
        "import seaborn as sns\n",
        "from prettytable import PrettyTable\n",
        "import random\n",
        "from sklearn.metrics import classification_report"
      ]
    },
    {
      "cell_type": "markdown",
      "source": [
        "Para realizar dicho ejercicio se utilizará una base de datos llamada 'olimpiadas' que recoge diferentes variables acerca de los jugadores que han participado en los Juegos Olímpicos."
      ],
      "metadata": {
        "id": "mL7s5igzEG-9"
      }
    },
    {
      "cell_type": "code",
      "source": [
        "data = pd.read_csv('olimpiadas.csv', encoding = 'latin_1')\n",
        "data"
      ],
      "metadata": {
        "colab": {
          "base_uri": "https://localhost:8080/",
          "height": 937
        },
        "id": "ifZ2p0xmvjj8",
        "outputId": "8cb4aab2-e0c9-40e0-d576-d4d4e5a920b7"
      },
      "execution_count": 2,
      "outputs": [
        {
          "output_type": "execute_result",
          "data": {
            "text/plain": [
              "            ID                      Name Sex   Age  Height  Weight  \\\n",
              "0            1                 A Dijiang   M  24.0   180.0    80.0   \n",
              "1            2                  A Lamusi   M  23.0   170.0    60.0   \n",
              "2            3       Gunnar Nielsen Aaby   M  24.0     NaN     NaN   \n",
              "3            4      Edgar Lindenau Aabye   M  34.0     NaN     NaN   \n",
              "4            5  Christine Jacoba Aaftink   F  21.0   185.0    82.0   \n",
              "...        ...                       ...  ..   ...     ...     ...   \n",
              "271111  135569                Andrzej ya   M  29.0   179.0    89.0   \n",
              "271112  135570                  Piotr ya   M  27.0   176.0    59.0   \n",
              "271113  135570                  Piotr ya   M  27.0   176.0    59.0   \n",
              "271114  135571        Tomasz Ireneusz ya   M  30.0   185.0    96.0   \n",
              "271115  135571        Tomasz Ireneusz ya   M  34.0   185.0    96.0   \n",
              "\n",
              "                  Team  NOC        Games  Year  Season            City  \\\n",
              "0                China  CHN  1992 Summer  1992  Summer       Barcelona   \n",
              "1                China  CHN  2012 Summer  2012  Summer          London   \n",
              "2              Denmark  DEN  1920 Summer  1920  Summer       Antwerpen   \n",
              "3       Denmark/Sweden  DEN  1900 Summer  1900  Summer           Paris   \n",
              "4          Netherlands  NED  1988 Winter  1988  Winter         Calgary   \n",
              "...                ...  ...          ...   ...     ...             ...   \n",
              "271111        Poland-1  POL  1976 Winter  1976  Winter       Innsbruck   \n",
              "271112          Poland  POL  2014 Winter  2014  Winter           Sochi   \n",
              "271113          Poland  POL  2014 Winter  2014  Winter           Sochi   \n",
              "271114          Poland  POL  1998 Winter  1998  Winter          Nagano   \n",
              "271115          Poland  POL  2002 Winter  2002  Winter  Salt Lake City   \n",
              "\n",
              "                Sport                                     Event Medal  \n",
              "0          Basketball               Basketball Men's Basketball   NaN  \n",
              "1                Judo              Judo Men's Extra-Lightweight   NaN  \n",
              "2            Football                   Football Men's Football   NaN  \n",
              "3          Tug-Of-War               Tug-Of-War Men's Tug-Of-War  Gold  \n",
              "4       Speed Skating          Speed Skating Women's 500 metres   NaN  \n",
              "...               ...                                       ...   ...  \n",
              "271111           Luge                Luge Mixed (Men)'s Doubles   NaN  \n",
              "271112    Ski Jumping  Ski Jumping Men's Large Hill, Individual   NaN  \n",
              "271113    Ski Jumping        Ski Jumping Men's Large Hill, Team   NaN  \n",
              "271114      Bobsleigh                      Bobsleigh Men's Four   NaN  \n",
              "271115      Bobsleigh                      Bobsleigh Men's Four   NaN  \n",
              "\n",
              "[271116 rows x 15 columns]"
            ],
            "text/html": [
              "\n",
              "  <div id=\"df-eddb25c6-7390-4f26-82b3-be4eb00749db\">\n",
              "    <div class=\"colab-df-container\">\n",
              "      <div>\n",
              "<style scoped>\n",
              "    .dataframe tbody tr th:only-of-type {\n",
              "        vertical-align: middle;\n",
              "    }\n",
              "\n",
              "    .dataframe tbody tr th {\n",
              "        vertical-align: top;\n",
              "    }\n",
              "\n",
              "    .dataframe thead th {\n",
              "        text-align: right;\n",
              "    }\n",
              "</style>\n",
              "<table border=\"1\" class=\"dataframe\">\n",
              "  <thead>\n",
              "    <tr style=\"text-align: right;\">\n",
              "      <th></th>\n",
              "      <th>ID</th>\n",
              "      <th>Name</th>\n",
              "      <th>Sex</th>\n",
              "      <th>Age</th>\n",
              "      <th>Height</th>\n",
              "      <th>Weight</th>\n",
              "      <th>Team</th>\n",
              "      <th>NOC</th>\n",
              "      <th>Games</th>\n",
              "      <th>Year</th>\n",
              "      <th>Season</th>\n",
              "      <th>City</th>\n",
              "      <th>Sport</th>\n",
              "      <th>Event</th>\n",
              "      <th>Medal</th>\n",
              "    </tr>\n",
              "  </thead>\n",
              "  <tbody>\n",
              "    <tr>\n",
              "      <th>0</th>\n",
              "      <td>1</td>\n",
              "      <td>A Dijiang</td>\n",
              "      <td>M</td>\n",
              "      <td>24.0</td>\n",
              "      <td>180.0</td>\n",
              "      <td>80.0</td>\n",
              "      <td>China</td>\n",
              "      <td>CHN</td>\n",
              "      <td>1992 Summer</td>\n",
              "      <td>1992</td>\n",
              "      <td>Summer</td>\n",
              "      <td>Barcelona</td>\n",
              "      <td>Basketball</td>\n",
              "      <td>Basketball Men's Basketball</td>\n",
              "      <td>NaN</td>\n",
              "    </tr>\n",
              "    <tr>\n",
              "      <th>1</th>\n",
              "      <td>2</td>\n",
              "      <td>A Lamusi</td>\n",
              "      <td>M</td>\n",
              "      <td>23.0</td>\n",
              "      <td>170.0</td>\n",
              "      <td>60.0</td>\n",
              "      <td>China</td>\n",
              "      <td>CHN</td>\n",
              "      <td>2012 Summer</td>\n",
              "      <td>2012</td>\n",
              "      <td>Summer</td>\n",
              "      <td>London</td>\n",
              "      <td>Judo</td>\n",
              "      <td>Judo Men's Extra-Lightweight</td>\n",
              "      <td>NaN</td>\n",
              "    </tr>\n",
              "    <tr>\n",
              "      <th>2</th>\n",
              "      <td>3</td>\n",
              "      <td>Gunnar Nielsen Aaby</td>\n",
              "      <td>M</td>\n",
              "      <td>24.0</td>\n",
              "      <td>NaN</td>\n",
              "      <td>NaN</td>\n",
              "      <td>Denmark</td>\n",
              "      <td>DEN</td>\n",
              "      <td>1920 Summer</td>\n",
              "      <td>1920</td>\n",
              "      <td>Summer</td>\n",
              "      <td>Antwerpen</td>\n",
              "      <td>Football</td>\n",
              "      <td>Football Men's Football</td>\n",
              "      <td>NaN</td>\n",
              "    </tr>\n",
              "    <tr>\n",
              "      <th>3</th>\n",
              "      <td>4</td>\n",
              "      <td>Edgar Lindenau Aabye</td>\n",
              "      <td>M</td>\n",
              "      <td>34.0</td>\n",
              "      <td>NaN</td>\n",
              "      <td>NaN</td>\n",
              "      <td>Denmark/Sweden</td>\n",
              "      <td>DEN</td>\n",
              "      <td>1900 Summer</td>\n",
              "      <td>1900</td>\n",
              "      <td>Summer</td>\n",
              "      <td>Paris</td>\n",
              "      <td>Tug-Of-War</td>\n",
              "      <td>Tug-Of-War Men's Tug-Of-War</td>\n",
              "      <td>Gold</td>\n",
              "    </tr>\n",
              "    <tr>\n",
              "      <th>4</th>\n",
              "      <td>5</td>\n",
              "      <td>Christine Jacoba Aaftink</td>\n",
              "      <td>F</td>\n",
              "      <td>21.0</td>\n",
              "      <td>185.0</td>\n",
              "      <td>82.0</td>\n",
              "      <td>Netherlands</td>\n",
              "      <td>NED</td>\n",
              "      <td>1988 Winter</td>\n",
              "      <td>1988</td>\n",
              "      <td>Winter</td>\n",
              "      <td>Calgary</td>\n",
              "      <td>Speed Skating</td>\n",
              "      <td>Speed Skating Women's 500 metres</td>\n",
              "      <td>NaN</td>\n",
              "    </tr>\n",
              "    <tr>\n",
              "      <th>...</th>\n",
              "      <td>...</td>\n",
              "      <td>...</td>\n",
              "      <td>...</td>\n",
              "      <td>...</td>\n",
              "      <td>...</td>\n",
              "      <td>...</td>\n",
              "      <td>...</td>\n",
              "      <td>...</td>\n",
              "      <td>...</td>\n",
              "      <td>...</td>\n",
              "      <td>...</td>\n",
              "      <td>...</td>\n",
              "      <td>...</td>\n",
              "      <td>...</td>\n",
              "      <td>...</td>\n",
              "    </tr>\n",
              "    <tr>\n",
              "      <th>271111</th>\n",
              "      <td>135569</td>\n",
              "      <td>Andrzej ya</td>\n",
              "      <td>M</td>\n",
              "      <td>29.0</td>\n",
              "      <td>179.0</td>\n",
              "      <td>89.0</td>\n",
              "      <td>Poland-1</td>\n",
              "      <td>POL</td>\n",
              "      <td>1976 Winter</td>\n",
              "      <td>1976</td>\n",
              "      <td>Winter</td>\n",
              "      <td>Innsbruck</td>\n",
              "      <td>Luge</td>\n",
              "      <td>Luge Mixed (Men)'s Doubles</td>\n",
              "      <td>NaN</td>\n",
              "    </tr>\n",
              "    <tr>\n",
              "      <th>271112</th>\n",
              "      <td>135570</td>\n",
              "      <td>Piotr ya</td>\n",
              "      <td>M</td>\n",
              "      <td>27.0</td>\n",
              "      <td>176.0</td>\n",
              "      <td>59.0</td>\n",
              "      <td>Poland</td>\n",
              "      <td>POL</td>\n",
              "      <td>2014 Winter</td>\n",
              "      <td>2014</td>\n",
              "      <td>Winter</td>\n",
              "      <td>Sochi</td>\n",
              "      <td>Ski Jumping</td>\n",
              "      <td>Ski Jumping Men's Large Hill, Individual</td>\n",
              "      <td>NaN</td>\n",
              "    </tr>\n",
              "    <tr>\n",
              "      <th>271113</th>\n",
              "      <td>135570</td>\n",
              "      <td>Piotr ya</td>\n",
              "      <td>M</td>\n",
              "      <td>27.0</td>\n",
              "      <td>176.0</td>\n",
              "      <td>59.0</td>\n",
              "      <td>Poland</td>\n",
              "      <td>POL</td>\n",
              "      <td>2014 Winter</td>\n",
              "      <td>2014</td>\n",
              "      <td>Winter</td>\n",
              "      <td>Sochi</td>\n",
              "      <td>Ski Jumping</td>\n",
              "      <td>Ski Jumping Men's Large Hill, Team</td>\n",
              "      <td>NaN</td>\n",
              "    </tr>\n",
              "    <tr>\n",
              "      <th>271114</th>\n",
              "      <td>135571</td>\n",
              "      <td>Tomasz Ireneusz ya</td>\n",
              "      <td>M</td>\n",
              "      <td>30.0</td>\n",
              "      <td>185.0</td>\n",
              "      <td>96.0</td>\n",
              "      <td>Poland</td>\n",
              "      <td>POL</td>\n",
              "      <td>1998 Winter</td>\n",
              "      <td>1998</td>\n",
              "      <td>Winter</td>\n",
              "      <td>Nagano</td>\n",
              "      <td>Bobsleigh</td>\n",
              "      <td>Bobsleigh Men's Four</td>\n",
              "      <td>NaN</td>\n",
              "    </tr>\n",
              "    <tr>\n",
              "      <th>271115</th>\n",
              "      <td>135571</td>\n",
              "      <td>Tomasz Ireneusz ya</td>\n",
              "      <td>M</td>\n",
              "      <td>34.0</td>\n",
              "      <td>185.0</td>\n",
              "      <td>96.0</td>\n",
              "      <td>Poland</td>\n",
              "      <td>POL</td>\n",
              "      <td>2002 Winter</td>\n",
              "      <td>2002</td>\n",
              "      <td>Winter</td>\n",
              "      <td>Salt Lake City</td>\n",
              "      <td>Bobsleigh</td>\n",
              "      <td>Bobsleigh Men's Four</td>\n",
              "      <td>NaN</td>\n",
              "    </tr>\n",
              "  </tbody>\n",
              "</table>\n",
              "<p>271116 rows × 15 columns</p>\n",
              "</div>\n",
              "      <button class=\"colab-df-convert\" onclick=\"convertToInteractive('df-eddb25c6-7390-4f26-82b3-be4eb00749db')\"\n",
              "              title=\"Convert this dataframe to an interactive table.\"\n",
              "              style=\"display:none;\">\n",
              "        \n",
              "  <svg xmlns=\"http://www.w3.org/2000/svg\" height=\"24px\"viewBox=\"0 0 24 24\"\n",
              "       width=\"24px\">\n",
              "    <path d=\"M0 0h24v24H0V0z\" fill=\"none\"/>\n",
              "    <path d=\"M18.56 5.44l.94 2.06.94-2.06 2.06-.94-2.06-.94-.94-2.06-.94 2.06-2.06.94zm-11 1L8.5 8.5l.94-2.06 2.06-.94-2.06-.94L8.5 2.5l-.94 2.06-2.06.94zm10 10l.94 2.06.94-2.06 2.06-.94-2.06-.94-.94-2.06-.94 2.06-2.06.94z\"/><path d=\"M17.41 7.96l-1.37-1.37c-.4-.4-.92-.59-1.43-.59-.52 0-1.04.2-1.43.59L10.3 9.45l-7.72 7.72c-.78.78-.78 2.05 0 2.83L4 21.41c.39.39.9.59 1.41.59.51 0 1.02-.2 1.41-.59l7.78-7.78 2.81-2.81c.8-.78.8-2.07 0-2.86zM5.41 20L4 18.59l7.72-7.72 1.47 1.35L5.41 20z\"/>\n",
              "  </svg>\n",
              "      </button>\n",
              "      \n",
              "  <style>\n",
              "    .colab-df-container {\n",
              "      display:flex;\n",
              "      flex-wrap:wrap;\n",
              "      gap: 12px;\n",
              "    }\n",
              "\n",
              "    .colab-df-convert {\n",
              "      background-color: #E8F0FE;\n",
              "      border: none;\n",
              "      border-radius: 50%;\n",
              "      cursor: pointer;\n",
              "      display: none;\n",
              "      fill: #1967D2;\n",
              "      height: 32px;\n",
              "      padding: 0 0 0 0;\n",
              "      width: 32px;\n",
              "    }\n",
              "\n",
              "    .colab-df-convert:hover {\n",
              "      background-color: #E2EBFA;\n",
              "      box-shadow: 0px 1px 2px rgba(60, 64, 67, 0.3), 0px 1px 3px 1px rgba(60, 64, 67, 0.15);\n",
              "      fill: #174EA6;\n",
              "    }\n",
              "\n",
              "    [theme=dark] .colab-df-convert {\n",
              "      background-color: #3B4455;\n",
              "      fill: #D2E3FC;\n",
              "    }\n",
              "\n",
              "    [theme=dark] .colab-df-convert:hover {\n",
              "      background-color: #434B5C;\n",
              "      box-shadow: 0px 1px 3px 1px rgba(0, 0, 0, 0.15);\n",
              "      filter: drop-shadow(0px 1px 2px rgba(0, 0, 0, 0.3));\n",
              "      fill: #FFFFFF;\n",
              "    }\n",
              "  </style>\n",
              "\n",
              "      <script>\n",
              "        const buttonEl =\n",
              "          document.querySelector('#df-eddb25c6-7390-4f26-82b3-be4eb00749db button.colab-df-convert');\n",
              "        buttonEl.style.display =\n",
              "          google.colab.kernel.accessAllowed ? 'block' : 'none';\n",
              "\n",
              "        async function convertToInteractive(key) {\n",
              "          const element = document.querySelector('#df-eddb25c6-7390-4f26-82b3-be4eb00749db');\n",
              "          const dataTable =\n",
              "            await google.colab.kernel.invokeFunction('convertToInteractive',\n",
              "                                                     [key], {});\n",
              "          if (!dataTable) return;\n",
              "\n",
              "          const docLinkHtml = 'Like what you see? Visit the ' +\n",
              "            '<a target=\"_blank\" href=https://colab.research.google.com/notebooks/data_table.ipynb>data table notebook</a>'\n",
              "            + ' to learn more about interactive tables.';\n",
              "          element.innerHTML = '';\n",
              "          dataTable['output_type'] = 'display_data';\n",
              "          await google.colab.output.renderOutput(dataTable, element);\n",
              "          const docLink = document.createElement('div');\n",
              "          docLink.innerHTML = docLinkHtml;\n",
              "          element.appendChild(docLink);\n",
              "        }\n",
              "      </script>\n",
              "    </div>\n",
              "  </div>\n",
              "  "
            ]
          },
          "metadata": {},
          "execution_count": 2
        }
      ]
    },
    {
      "cell_type": "markdown",
      "source": [
        "¿Nuestra base de datos contiene valores nulos? "
      ],
      "metadata": {
        "id": "Icq3syNx1WQD"
      }
    },
    {
      "cell_type": "code",
      "source": [
        "data.isnull().values.any()"
      ],
      "metadata": {
        "colab": {
          "base_uri": "https://localhost:8080/"
        },
        "id": "AjyuqXDaxOnH",
        "outputId": "dd5eb841-0458-43eb-a702-3597fa7c3db8"
      },
      "execution_count": 3,
      "outputs": [
        {
          "output_type": "execute_result",
          "data": {
            "text/plain": [
              "True"
            ]
          },
          "metadata": {},
          "execution_count": 3
        }
      ]
    },
    {
      "cell_type": "markdown",
      "source": [
        "¿Cuántos valores nulos tenemos?"
      ],
      "metadata": {
        "id": "Ti6MeNLs1bM9"
      }
    },
    {
      "cell_type": "code",
      "source": [
        "data.isnull().sum().sum()"
      ],
      "metadata": {
        "colab": {
          "base_uri": "https://localhost:8080/"
        },
        "id": "kdkNMfX2xYEj",
        "outputId": "83442cff-ff89-49d8-e4cd-c02269e99ddc"
      },
      "execution_count": 4,
      "outputs": [
        {
          "output_type": "execute_result",
          "data": {
            "text/plain": [
              "363853"
            ]
          },
          "metadata": {},
          "execution_count": 4
        }
      ]
    },
    {
      "cell_type": "markdown",
      "source": [
        "La siguiente función nos dice dónde se ubican nuestros valores nulos, es decir, en que columna los encontramos."
      ],
      "metadata": {
        "id": "Jm3kq2dk1d8N"
      }
    },
    {
      "cell_type": "code",
      "source": [
        "data.columns[data.isnull().any()]"
      ],
      "metadata": {
        "colab": {
          "base_uri": "https://localhost:8080/"
        },
        "id": "PYgco3dzxR5h",
        "outputId": "90ece9fc-1870-49e4-ccb7-df8f3160eea8"
      },
      "execution_count": 5,
      "outputs": [
        {
          "output_type": "execute_result",
          "data": {
            "text/plain": [
              "Index(['Age', 'Height', 'Weight', 'Medal'], dtype='object')"
            ]
          },
          "metadata": {},
          "execution_count": 5
        }
      ]
    },
    {
      "cell_type": "markdown",
      "source": [
        "Se ha decidido eliminar algunas de las variables que no hemos considerado 'relevantes' para nuestro estudio. Estas son:\n",
        "*  **Team**, lo entendemos como el equipo en el que juega el jugador.Se ha observado que un jugador puede pertenecer a diferentes equipos, para ello, se ha decicido restringir de esta variable, por eliminar complejidades y recoger la variable NOC, que nos habla de la nacionalidad. \n",
        "*  **Year** y **season**, estas dos variables se recogen ambas juntas en la variable 'Games', para ello nos quedamos solo con la última. Nos interesa reducir dimensionalidad en estos casos para ayudar al algoritmo. \n",
        "*  **City**, esta variable nos indica dónde se jugaron los Juegos Olímpicos, pero gracias a la variable 'Games' ya podemos saber dónde fue, ya que lo único que habría que hacer es buscar dicha fecha y la época.\n",
        "*   **ID**, esta variable nos indica un número que se le asigna a cada jugador, con el nombre nos bastaría. "
      ],
      "metadata": {
        "id": "ftXEneOD1m0t"
      }
    },
    {
      "cell_type": "code",
      "source": [
        "df = data.drop(['Team', 'Year', 'Season', 'City', 'ID'], axis=1)\n",
        "df\n"
      ],
      "metadata": {
        "colab": {
          "base_uri": "https://localhost:8080/",
          "height": 555
        },
        "id": "-pwGQcY1yVE6",
        "outputId": "f15e8ec9-afa8-4e36-f33e-66e7bcc25727"
      },
      "execution_count": 6,
      "outputs": [
        {
          "output_type": "execute_result",
          "data": {
            "text/plain": [
              "                            Name Sex   Age  Height  Weight  NOC        Games  \\\n",
              "0                      A Dijiang   M  24.0   180.0    80.0  CHN  1992 Summer   \n",
              "1                       A Lamusi   M  23.0   170.0    60.0  CHN  2012 Summer   \n",
              "2            Gunnar Nielsen Aaby   M  24.0     NaN     NaN  DEN  1920 Summer   \n",
              "3           Edgar Lindenau Aabye   M  34.0     NaN     NaN  DEN  1900 Summer   \n",
              "4       Christine Jacoba Aaftink   F  21.0   185.0    82.0  NED  1988 Winter   \n",
              "...                          ...  ..   ...     ...     ...  ...          ...   \n",
              "271111                Andrzej ya   M  29.0   179.0    89.0  POL  1976 Winter   \n",
              "271112                  Piotr ya   M  27.0   176.0    59.0  POL  2014 Winter   \n",
              "271113                  Piotr ya   M  27.0   176.0    59.0  POL  2014 Winter   \n",
              "271114        Tomasz Ireneusz ya   M  30.0   185.0    96.0  POL  1998 Winter   \n",
              "271115        Tomasz Ireneusz ya   M  34.0   185.0    96.0  POL  2002 Winter   \n",
              "\n",
              "                Sport                                     Event Medal  \n",
              "0          Basketball               Basketball Men's Basketball   NaN  \n",
              "1                Judo              Judo Men's Extra-Lightweight   NaN  \n",
              "2            Football                   Football Men's Football   NaN  \n",
              "3          Tug-Of-War               Tug-Of-War Men's Tug-Of-War  Gold  \n",
              "4       Speed Skating          Speed Skating Women's 500 metres   NaN  \n",
              "...               ...                                       ...   ...  \n",
              "271111           Luge                Luge Mixed (Men)'s Doubles   NaN  \n",
              "271112    Ski Jumping  Ski Jumping Men's Large Hill, Individual   NaN  \n",
              "271113    Ski Jumping        Ski Jumping Men's Large Hill, Team   NaN  \n",
              "271114      Bobsleigh                      Bobsleigh Men's Four   NaN  \n",
              "271115      Bobsleigh                      Bobsleigh Men's Four   NaN  \n",
              "\n",
              "[271116 rows x 10 columns]"
            ],
            "text/html": [
              "\n",
              "  <div id=\"df-2b053e3a-6570-437a-adce-43af9b4bd966\">\n",
              "    <div class=\"colab-df-container\">\n",
              "      <div>\n",
              "<style scoped>\n",
              "    .dataframe tbody tr th:only-of-type {\n",
              "        vertical-align: middle;\n",
              "    }\n",
              "\n",
              "    .dataframe tbody tr th {\n",
              "        vertical-align: top;\n",
              "    }\n",
              "\n",
              "    .dataframe thead th {\n",
              "        text-align: right;\n",
              "    }\n",
              "</style>\n",
              "<table border=\"1\" class=\"dataframe\">\n",
              "  <thead>\n",
              "    <tr style=\"text-align: right;\">\n",
              "      <th></th>\n",
              "      <th>Name</th>\n",
              "      <th>Sex</th>\n",
              "      <th>Age</th>\n",
              "      <th>Height</th>\n",
              "      <th>Weight</th>\n",
              "      <th>NOC</th>\n",
              "      <th>Games</th>\n",
              "      <th>Sport</th>\n",
              "      <th>Event</th>\n",
              "      <th>Medal</th>\n",
              "    </tr>\n",
              "  </thead>\n",
              "  <tbody>\n",
              "    <tr>\n",
              "      <th>0</th>\n",
              "      <td>A Dijiang</td>\n",
              "      <td>M</td>\n",
              "      <td>24.0</td>\n",
              "      <td>180.0</td>\n",
              "      <td>80.0</td>\n",
              "      <td>CHN</td>\n",
              "      <td>1992 Summer</td>\n",
              "      <td>Basketball</td>\n",
              "      <td>Basketball Men's Basketball</td>\n",
              "      <td>NaN</td>\n",
              "    </tr>\n",
              "    <tr>\n",
              "      <th>1</th>\n",
              "      <td>A Lamusi</td>\n",
              "      <td>M</td>\n",
              "      <td>23.0</td>\n",
              "      <td>170.0</td>\n",
              "      <td>60.0</td>\n",
              "      <td>CHN</td>\n",
              "      <td>2012 Summer</td>\n",
              "      <td>Judo</td>\n",
              "      <td>Judo Men's Extra-Lightweight</td>\n",
              "      <td>NaN</td>\n",
              "    </tr>\n",
              "    <tr>\n",
              "      <th>2</th>\n",
              "      <td>Gunnar Nielsen Aaby</td>\n",
              "      <td>M</td>\n",
              "      <td>24.0</td>\n",
              "      <td>NaN</td>\n",
              "      <td>NaN</td>\n",
              "      <td>DEN</td>\n",
              "      <td>1920 Summer</td>\n",
              "      <td>Football</td>\n",
              "      <td>Football Men's Football</td>\n",
              "      <td>NaN</td>\n",
              "    </tr>\n",
              "    <tr>\n",
              "      <th>3</th>\n",
              "      <td>Edgar Lindenau Aabye</td>\n",
              "      <td>M</td>\n",
              "      <td>34.0</td>\n",
              "      <td>NaN</td>\n",
              "      <td>NaN</td>\n",
              "      <td>DEN</td>\n",
              "      <td>1900 Summer</td>\n",
              "      <td>Tug-Of-War</td>\n",
              "      <td>Tug-Of-War Men's Tug-Of-War</td>\n",
              "      <td>Gold</td>\n",
              "    </tr>\n",
              "    <tr>\n",
              "      <th>4</th>\n",
              "      <td>Christine Jacoba Aaftink</td>\n",
              "      <td>F</td>\n",
              "      <td>21.0</td>\n",
              "      <td>185.0</td>\n",
              "      <td>82.0</td>\n",
              "      <td>NED</td>\n",
              "      <td>1988 Winter</td>\n",
              "      <td>Speed Skating</td>\n",
              "      <td>Speed Skating Women's 500 metres</td>\n",
              "      <td>NaN</td>\n",
              "    </tr>\n",
              "    <tr>\n",
              "      <th>...</th>\n",
              "      <td>...</td>\n",
              "      <td>...</td>\n",
              "      <td>...</td>\n",
              "      <td>...</td>\n",
              "      <td>...</td>\n",
              "      <td>...</td>\n",
              "      <td>...</td>\n",
              "      <td>...</td>\n",
              "      <td>...</td>\n",
              "      <td>...</td>\n",
              "    </tr>\n",
              "    <tr>\n",
              "      <th>271111</th>\n",
              "      <td>Andrzej ya</td>\n",
              "      <td>M</td>\n",
              "      <td>29.0</td>\n",
              "      <td>179.0</td>\n",
              "      <td>89.0</td>\n",
              "      <td>POL</td>\n",
              "      <td>1976 Winter</td>\n",
              "      <td>Luge</td>\n",
              "      <td>Luge Mixed (Men)'s Doubles</td>\n",
              "      <td>NaN</td>\n",
              "    </tr>\n",
              "    <tr>\n",
              "      <th>271112</th>\n",
              "      <td>Piotr ya</td>\n",
              "      <td>M</td>\n",
              "      <td>27.0</td>\n",
              "      <td>176.0</td>\n",
              "      <td>59.0</td>\n",
              "      <td>POL</td>\n",
              "      <td>2014 Winter</td>\n",
              "      <td>Ski Jumping</td>\n",
              "      <td>Ski Jumping Men's Large Hill, Individual</td>\n",
              "      <td>NaN</td>\n",
              "    </tr>\n",
              "    <tr>\n",
              "      <th>271113</th>\n",
              "      <td>Piotr ya</td>\n",
              "      <td>M</td>\n",
              "      <td>27.0</td>\n",
              "      <td>176.0</td>\n",
              "      <td>59.0</td>\n",
              "      <td>POL</td>\n",
              "      <td>2014 Winter</td>\n",
              "      <td>Ski Jumping</td>\n",
              "      <td>Ski Jumping Men's Large Hill, Team</td>\n",
              "      <td>NaN</td>\n",
              "    </tr>\n",
              "    <tr>\n",
              "      <th>271114</th>\n",
              "      <td>Tomasz Ireneusz ya</td>\n",
              "      <td>M</td>\n",
              "      <td>30.0</td>\n",
              "      <td>185.0</td>\n",
              "      <td>96.0</td>\n",
              "      <td>POL</td>\n",
              "      <td>1998 Winter</td>\n",
              "      <td>Bobsleigh</td>\n",
              "      <td>Bobsleigh Men's Four</td>\n",
              "      <td>NaN</td>\n",
              "    </tr>\n",
              "    <tr>\n",
              "      <th>271115</th>\n",
              "      <td>Tomasz Ireneusz ya</td>\n",
              "      <td>M</td>\n",
              "      <td>34.0</td>\n",
              "      <td>185.0</td>\n",
              "      <td>96.0</td>\n",
              "      <td>POL</td>\n",
              "      <td>2002 Winter</td>\n",
              "      <td>Bobsleigh</td>\n",
              "      <td>Bobsleigh Men's Four</td>\n",
              "      <td>NaN</td>\n",
              "    </tr>\n",
              "  </tbody>\n",
              "</table>\n",
              "<p>271116 rows × 10 columns</p>\n",
              "</div>\n",
              "      <button class=\"colab-df-convert\" onclick=\"convertToInteractive('df-2b053e3a-6570-437a-adce-43af9b4bd966')\"\n",
              "              title=\"Convert this dataframe to an interactive table.\"\n",
              "              style=\"display:none;\">\n",
              "        \n",
              "  <svg xmlns=\"http://www.w3.org/2000/svg\" height=\"24px\"viewBox=\"0 0 24 24\"\n",
              "       width=\"24px\">\n",
              "    <path d=\"M0 0h24v24H0V0z\" fill=\"none\"/>\n",
              "    <path d=\"M18.56 5.44l.94 2.06.94-2.06 2.06-.94-2.06-.94-.94-2.06-.94 2.06-2.06.94zm-11 1L8.5 8.5l.94-2.06 2.06-.94-2.06-.94L8.5 2.5l-.94 2.06-2.06.94zm10 10l.94 2.06.94-2.06 2.06-.94-2.06-.94-.94-2.06-.94 2.06-2.06.94z\"/><path d=\"M17.41 7.96l-1.37-1.37c-.4-.4-.92-.59-1.43-.59-.52 0-1.04.2-1.43.59L10.3 9.45l-7.72 7.72c-.78.78-.78 2.05 0 2.83L4 21.41c.39.39.9.59 1.41.59.51 0 1.02-.2 1.41-.59l7.78-7.78 2.81-2.81c.8-.78.8-2.07 0-2.86zM5.41 20L4 18.59l7.72-7.72 1.47 1.35L5.41 20z\"/>\n",
              "  </svg>\n",
              "      </button>\n",
              "      \n",
              "  <style>\n",
              "    .colab-df-container {\n",
              "      display:flex;\n",
              "      flex-wrap:wrap;\n",
              "      gap: 12px;\n",
              "    }\n",
              "\n",
              "    .colab-df-convert {\n",
              "      background-color: #E8F0FE;\n",
              "      border: none;\n",
              "      border-radius: 50%;\n",
              "      cursor: pointer;\n",
              "      display: none;\n",
              "      fill: #1967D2;\n",
              "      height: 32px;\n",
              "      padding: 0 0 0 0;\n",
              "      width: 32px;\n",
              "    }\n",
              "\n",
              "    .colab-df-convert:hover {\n",
              "      background-color: #E2EBFA;\n",
              "      box-shadow: 0px 1px 2px rgba(60, 64, 67, 0.3), 0px 1px 3px 1px rgba(60, 64, 67, 0.15);\n",
              "      fill: #174EA6;\n",
              "    }\n",
              "\n",
              "    [theme=dark] .colab-df-convert {\n",
              "      background-color: #3B4455;\n",
              "      fill: #D2E3FC;\n",
              "    }\n",
              "\n",
              "    [theme=dark] .colab-df-convert:hover {\n",
              "      background-color: #434B5C;\n",
              "      box-shadow: 0px 1px 3px 1px rgba(0, 0, 0, 0.15);\n",
              "      filter: drop-shadow(0px 1px 2px rgba(0, 0, 0, 0.3));\n",
              "      fill: #FFFFFF;\n",
              "    }\n",
              "  </style>\n",
              "\n",
              "      <script>\n",
              "        const buttonEl =\n",
              "          document.querySelector('#df-2b053e3a-6570-437a-adce-43af9b4bd966 button.colab-df-convert');\n",
              "        buttonEl.style.display =\n",
              "          google.colab.kernel.accessAllowed ? 'block' : 'none';\n",
              "\n",
              "        async function convertToInteractive(key) {\n",
              "          const element = document.querySelector('#df-2b053e3a-6570-437a-adce-43af9b4bd966');\n",
              "          const dataTable =\n",
              "            await google.colab.kernel.invokeFunction('convertToInteractive',\n",
              "                                                     [key], {});\n",
              "          if (!dataTable) return;\n",
              "\n",
              "          const docLinkHtml = 'Like what you see? Visit the ' +\n",
              "            '<a target=\"_blank\" href=https://colab.research.google.com/notebooks/data_table.ipynb>data table notebook</a>'\n",
              "            + ' to learn more about interactive tables.';\n",
              "          element.innerHTML = '';\n",
              "          dataTable['output_type'] = 'display_data';\n",
              "          await google.colab.output.renderOutput(dataTable, element);\n",
              "          const docLink = document.createElement('div');\n",
              "          docLink.innerHTML = docLinkHtml;\n",
              "          element.appendChild(docLink);\n",
              "        }\n",
              "      </script>\n",
              "    </div>\n",
              "  </div>\n",
              "  "
            ]
          },
          "metadata": {},
          "execution_count": 6
        }
      ]
    },
    {
      "cell_type": "markdown",
      "source": [
        "Ya se sabe las columnas que van a estar dentro de este ejercicio. Estas son:\n",
        "\n",
        "*  **Name**: el nombre del jugador/a que ha participado en los Juegos Olímpicos.\n",
        "*  **Sex**: el género del jugador/a.\n",
        "*  **Age**: la edad del jugador/a.\n",
        "*  **Height**: la altura del jugador/a.\n",
        "*  **Weight**: el peso del jugador/a.\n",
        "*  **NOC**: entendemos dicha variable como la nacionalidad del jugador/a.\n",
        "*  **Games**: el año y la época en la que se han jugado los juegos.\n",
        "*  **Sport**: el deporte realizado por el jugador/a.\n",
        "*  **Event**: al igual que la variable anterior, pero más concreto. \n",
        "*  **Medal**: la medalla conseguida por el jugador/a, en este caso la **variable objetivo**. \n"
      ],
      "metadata": {
        "id": "GR_oILPFEUtn"
      }
    },
    {
      "cell_type": "markdown",
      "source": [
        "Ahora vamos a reemplazar los valores nulos.\n",
        "\n",
        "Para empezar sabemos que la columna 'Medal' se encuentran valores nulos. Se entiende que el valor nulo es lo mismo que no tener medalla, para ello se va a reemplazr dichos valores por 'No', haciendo referencia a que el jugador no ha obtenido medalla. "
      ],
      "metadata": {
        "id": "Kg6v210vbj5k"
      }
    },
    {
      "cell_type": "code",
      "source": [
        "df['Medal']=df['Medal'].fillna(\"No\")\n",
        "df"
      ],
      "metadata": {
        "colab": {
          "base_uri": "https://localhost:8080/",
          "height": 555
        },
        "id": "NV-ajGYpzvfx",
        "outputId": "8355ef34-430a-43cd-d9c7-b8d643cb4679"
      },
      "execution_count": 7,
      "outputs": [
        {
          "output_type": "execute_result",
          "data": {
            "text/plain": [
              "                            Name Sex   Age  Height  Weight  NOC        Games  \\\n",
              "0                      A Dijiang   M  24.0   180.0    80.0  CHN  1992 Summer   \n",
              "1                       A Lamusi   M  23.0   170.0    60.0  CHN  2012 Summer   \n",
              "2            Gunnar Nielsen Aaby   M  24.0     NaN     NaN  DEN  1920 Summer   \n",
              "3           Edgar Lindenau Aabye   M  34.0     NaN     NaN  DEN  1900 Summer   \n",
              "4       Christine Jacoba Aaftink   F  21.0   185.0    82.0  NED  1988 Winter   \n",
              "...                          ...  ..   ...     ...     ...  ...          ...   \n",
              "271111                Andrzej ya   M  29.0   179.0    89.0  POL  1976 Winter   \n",
              "271112                  Piotr ya   M  27.0   176.0    59.0  POL  2014 Winter   \n",
              "271113                  Piotr ya   M  27.0   176.0    59.0  POL  2014 Winter   \n",
              "271114        Tomasz Ireneusz ya   M  30.0   185.0    96.0  POL  1998 Winter   \n",
              "271115        Tomasz Ireneusz ya   M  34.0   185.0    96.0  POL  2002 Winter   \n",
              "\n",
              "                Sport                                     Event Medal  \n",
              "0          Basketball               Basketball Men's Basketball    No  \n",
              "1                Judo              Judo Men's Extra-Lightweight    No  \n",
              "2            Football                   Football Men's Football    No  \n",
              "3          Tug-Of-War               Tug-Of-War Men's Tug-Of-War  Gold  \n",
              "4       Speed Skating          Speed Skating Women's 500 metres    No  \n",
              "...               ...                                       ...   ...  \n",
              "271111           Luge                Luge Mixed (Men)'s Doubles    No  \n",
              "271112    Ski Jumping  Ski Jumping Men's Large Hill, Individual    No  \n",
              "271113    Ski Jumping        Ski Jumping Men's Large Hill, Team    No  \n",
              "271114      Bobsleigh                      Bobsleigh Men's Four    No  \n",
              "271115      Bobsleigh                      Bobsleigh Men's Four    No  \n",
              "\n",
              "[271116 rows x 10 columns]"
            ],
            "text/html": [
              "\n",
              "  <div id=\"df-5c10d146-3faa-49b5-abe2-e7ee716b433a\">\n",
              "    <div class=\"colab-df-container\">\n",
              "      <div>\n",
              "<style scoped>\n",
              "    .dataframe tbody tr th:only-of-type {\n",
              "        vertical-align: middle;\n",
              "    }\n",
              "\n",
              "    .dataframe tbody tr th {\n",
              "        vertical-align: top;\n",
              "    }\n",
              "\n",
              "    .dataframe thead th {\n",
              "        text-align: right;\n",
              "    }\n",
              "</style>\n",
              "<table border=\"1\" class=\"dataframe\">\n",
              "  <thead>\n",
              "    <tr style=\"text-align: right;\">\n",
              "      <th></th>\n",
              "      <th>Name</th>\n",
              "      <th>Sex</th>\n",
              "      <th>Age</th>\n",
              "      <th>Height</th>\n",
              "      <th>Weight</th>\n",
              "      <th>NOC</th>\n",
              "      <th>Games</th>\n",
              "      <th>Sport</th>\n",
              "      <th>Event</th>\n",
              "      <th>Medal</th>\n",
              "    </tr>\n",
              "  </thead>\n",
              "  <tbody>\n",
              "    <tr>\n",
              "      <th>0</th>\n",
              "      <td>A Dijiang</td>\n",
              "      <td>M</td>\n",
              "      <td>24.0</td>\n",
              "      <td>180.0</td>\n",
              "      <td>80.0</td>\n",
              "      <td>CHN</td>\n",
              "      <td>1992 Summer</td>\n",
              "      <td>Basketball</td>\n",
              "      <td>Basketball Men's Basketball</td>\n",
              "      <td>No</td>\n",
              "    </tr>\n",
              "    <tr>\n",
              "      <th>1</th>\n",
              "      <td>A Lamusi</td>\n",
              "      <td>M</td>\n",
              "      <td>23.0</td>\n",
              "      <td>170.0</td>\n",
              "      <td>60.0</td>\n",
              "      <td>CHN</td>\n",
              "      <td>2012 Summer</td>\n",
              "      <td>Judo</td>\n",
              "      <td>Judo Men's Extra-Lightweight</td>\n",
              "      <td>No</td>\n",
              "    </tr>\n",
              "    <tr>\n",
              "      <th>2</th>\n",
              "      <td>Gunnar Nielsen Aaby</td>\n",
              "      <td>M</td>\n",
              "      <td>24.0</td>\n",
              "      <td>NaN</td>\n",
              "      <td>NaN</td>\n",
              "      <td>DEN</td>\n",
              "      <td>1920 Summer</td>\n",
              "      <td>Football</td>\n",
              "      <td>Football Men's Football</td>\n",
              "      <td>No</td>\n",
              "    </tr>\n",
              "    <tr>\n",
              "      <th>3</th>\n",
              "      <td>Edgar Lindenau Aabye</td>\n",
              "      <td>M</td>\n",
              "      <td>34.0</td>\n",
              "      <td>NaN</td>\n",
              "      <td>NaN</td>\n",
              "      <td>DEN</td>\n",
              "      <td>1900 Summer</td>\n",
              "      <td>Tug-Of-War</td>\n",
              "      <td>Tug-Of-War Men's Tug-Of-War</td>\n",
              "      <td>Gold</td>\n",
              "    </tr>\n",
              "    <tr>\n",
              "      <th>4</th>\n",
              "      <td>Christine Jacoba Aaftink</td>\n",
              "      <td>F</td>\n",
              "      <td>21.0</td>\n",
              "      <td>185.0</td>\n",
              "      <td>82.0</td>\n",
              "      <td>NED</td>\n",
              "      <td>1988 Winter</td>\n",
              "      <td>Speed Skating</td>\n",
              "      <td>Speed Skating Women's 500 metres</td>\n",
              "      <td>No</td>\n",
              "    </tr>\n",
              "    <tr>\n",
              "      <th>...</th>\n",
              "      <td>...</td>\n",
              "      <td>...</td>\n",
              "      <td>...</td>\n",
              "      <td>...</td>\n",
              "      <td>...</td>\n",
              "      <td>...</td>\n",
              "      <td>...</td>\n",
              "      <td>...</td>\n",
              "      <td>...</td>\n",
              "      <td>...</td>\n",
              "    </tr>\n",
              "    <tr>\n",
              "      <th>271111</th>\n",
              "      <td>Andrzej ya</td>\n",
              "      <td>M</td>\n",
              "      <td>29.0</td>\n",
              "      <td>179.0</td>\n",
              "      <td>89.0</td>\n",
              "      <td>POL</td>\n",
              "      <td>1976 Winter</td>\n",
              "      <td>Luge</td>\n",
              "      <td>Luge Mixed (Men)'s Doubles</td>\n",
              "      <td>No</td>\n",
              "    </tr>\n",
              "    <tr>\n",
              "      <th>271112</th>\n",
              "      <td>Piotr ya</td>\n",
              "      <td>M</td>\n",
              "      <td>27.0</td>\n",
              "      <td>176.0</td>\n",
              "      <td>59.0</td>\n",
              "      <td>POL</td>\n",
              "      <td>2014 Winter</td>\n",
              "      <td>Ski Jumping</td>\n",
              "      <td>Ski Jumping Men's Large Hill, Individual</td>\n",
              "      <td>No</td>\n",
              "    </tr>\n",
              "    <tr>\n",
              "      <th>271113</th>\n",
              "      <td>Piotr ya</td>\n",
              "      <td>M</td>\n",
              "      <td>27.0</td>\n",
              "      <td>176.0</td>\n",
              "      <td>59.0</td>\n",
              "      <td>POL</td>\n",
              "      <td>2014 Winter</td>\n",
              "      <td>Ski Jumping</td>\n",
              "      <td>Ski Jumping Men's Large Hill, Team</td>\n",
              "      <td>No</td>\n",
              "    </tr>\n",
              "    <tr>\n",
              "      <th>271114</th>\n",
              "      <td>Tomasz Ireneusz ya</td>\n",
              "      <td>M</td>\n",
              "      <td>30.0</td>\n",
              "      <td>185.0</td>\n",
              "      <td>96.0</td>\n",
              "      <td>POL</td>\n",
              "      <td>1998 Winter</td>\n",
              "      <td>Bobsleigh</td>\n",
              "      <td>Bobsleigh Men's Four</td>\n",
              "      <td>No</td>\n",
              "    </tr>\n",
              "    <tr>\n",
              "      <th>271115</th>\n",
              "      <td>Tomasz Ireneusz ya</td>\n",
              "      <td>M</td>\n",
              "      <td>34.0</td>\n",
              "      <td>185.0</td>\n",
              "      <td>96.0</td>\n",
              "      <td>POL</td>\n",
              "      <td>2002 Winter</td>\n",
              "      <td>Bobsleigh</td>\n",
              "      <td>Bobsleigh Men's Four</td>\n",
              "      <td>No</td>\n",
              "    </tr>\n",
              "  </tbody>\n",
              "</table>\n",
              "<p>271116 rows × 10 columns</p>\n",
              "</div>\n",
              "      <button class=\"colab-df-convert\" onclick=\"convertToInteractive('df-5c10d146-3faa-49b5-abe2-e7ee716b433a')\"\n",
              "              title=\"Convert this dataframe to an interactive table.\"\n",
              "              style=\"display:none;\">\n",
              "        \n",
              "  <svg xmlns=\"http://www.w3.org/2000/svg\" height=\"24px\"viewBox=\"0 0 24 24\"\n",
              "       width=\"24px\">\n",
              "    <path d=\"M0 0h24v24H0V0z\" fill=\"none\"/>\n",
              "    <path d=\"M18.56 5.44l.94 2.06.94-2.06 2.06-.94-2.06-.94-.94-2.06-.94 2.06-2.06.94zm-11 1L8.5 8.5l.94-2.06 2.06-.94-2.06-.94L8.5 2.5l-.94 2.06-2.06.94zm10 10l.94 2.06.94-2.06 2.06-.94-2.06-.94-.94-2.06-.94 2.06-2.06.94z\"/><path d=\"M17.41 7.96l-1.37-1.37c-.4-.4-.92-.59-1.43-.59-.52 0-1.04.2-1.43.59L10.3 9.45l-7.72 7.72c-.78.78-.78 2.05 0 2.83L4 21.41c.39.39.9.59 1.41.59.51 0 1.02-.2 1.41-.59l7.78-7.78 2.81-2.81c.8-.78.8-2.07 0-2.86zM5.41 20L4 18.59l7.72-7.72 1.47 1.35L5.41 20z\"/>\n",
              "  </svg>\n",
              "      </button>\n",
              "      \n",
              "  <style>\n",
              "    .colab-df-container {\n",
              "      display:flex;\n",
              "      flex-wrap:wrap;\n",
              "      gap: 12px;\n",
              "    }\n",
              "\n",
              "    .colab-df-convert {\n",
              "      background-color: #E8F0FE;\n",
              "      border: none;\n",
              "      border-radius: 50%;\n",
              "      cursor: pointer;\n",
              "      display: none;\n",
              "      fill: #1967D2;\n",
              "      height: 32px;\n",
              "      padding: 0 0 0 0;\n",
              "      width: 32px;\n",
              "    }\n",
              "\n",
              "    .colab-df-convert:hover {\n",
              "      background-color: #E2EBFA;\n",
              "      box-shadow: 0px 1px 2px rgba(60, 64, 67, 0.3), 0px 1px 3px 1px rgba(60, 64, 67, 0.15);\n",
              "      fill: #174EA6;\n",
              "    }\n",
              "\n",
              "    [theme=dark] .colab-df-convert {\n",
              "      background-color: #3B4455;\n",
              "      fill: #D2E3FC;\n",
              "    }\n",
              "\n",
              "    [theme=dark] .colab-df-convert:hover {\n",
              "      background-color: #434B5C;\n",
              "      box-shadow: 0px 1px 3px 1px rgba(0, 0, 0, 0.15);\n",
              "      filter: drop-shadow(0px 1px 2px rgba(0, 0, 0, 0.3));\n",
              "      fill: #FFFFFF;\n",
              "    }\n",
              "  </style>\n",
              "\n",
              "      <script>\n",
              "        const buttonEl =\n",
              "          document.querySelector('#df-5c10d146-3faa-49b5-abe2-e7ee716b433a button.colab-df-convert');\n",
              "        buttonEl.style.display =\n",
              "          google.colab.kernel.accessAllowed ? 'block' : 'none';\n",
              "\n",
              "        async function convertToInteractive(key) {\n",
              "          const element = document.querySelector('#df-5c10d146-3faa-49b5-abe2-e7ee716b433a');\n",
              "          const dataTable =\n",
              "            await google.colab.kernel.invokeFunction('convertToInteractive',\n",
              "                                                     [key], {});\n",
              "          if (!dataTable) return;\n",
              "\n",
              "          const docLinkHtml = 'Like what you see? Visit the ' +\n",
              "            '<a target=\"_blank\" href=https://colab.research.google.com/notebooks/data_table.ipynb>data table notebook</a>'\n",
              "            + ' to learn more about interactive tables.';\n",
              "          element.innerHTML = '';\n",
              "          dataTable['output_type'] = 'display_data';\n",
              "          await google.colab.output.renderOutput(dataTable, element);\n",
              "          const docLink = document.createElement('div');\n",
              "          docLink.innerHTML = docLinkHtml;\n",
              "          element.appendChild(docLink);\n",
              "        }\n",
              "      </script>\n",
              "    </div>\n",
              "  </div>\n",
              "  "
            ]
          },
          "metadata": {},
          "execution_count": 7
        }
      ]
    },
    {
      "cell_type": "markdown",
      "source": [
        "Para las otras columnas que tienen valores nulos, estas son 'Age', 'Height' y 'Weight', vamos a realizar la media de sus respectivas columnas y reemplazar los valore nulos por sus medias. Ya que si reemplazamos por un valor 0 estaríamos perdiendo mucha información y nos parece lo más adecuado realizar su media. "
      ],
      "metadata": {
        "id": "3rVmp9nLb3XI"
      }
    },
    {
      "cell_type": "code",
      "source": [
        "df['Age']= df['Age'].fillna(df['Age'].mean())\n",
        "df['Weight']= df['Weight'].fillna(df['Weight'].mean())\n",
        "df['Height']= df['Height'].fillna(df['Height'].mean())"
      ],
      "metadata": {
        "id": "ODcjaPpO0GS6"
      },
      "execution_count": 8,
      "outputs": []
    },
    {
      "cell_type": "markdown",
      "source": [
        "Verificamos que no nos quedan más valores nulos."
      ],
      "metadata": {
        "id": "HLomqytZcNCi"
      }
    },
    {
      "cell_type": "code",
      "source": [
        "df.isnull().values.any()"
      ],
      "metadata": {
        "colab": {
          "base_uri": "https://localhost:8080/"
        },
        "id": "cFGtfYnM1QGe",
        "outputId": "5eef15ab-9bf4-48e8-ecf2-fb88debc9781"
      },
      "execution_count": 9,
      "outputs": [
        {
          "output_type": "execute_result",
          "data": {
            "text/plain": [
              "False"
            ]
          },
          "metadata": {},
          "execution_count": 9
        }
      ]
    },
    {
      "cell_type": "markdown",
      "source": [
        "Para entender mejor nuestros datos podemos observar la distribución de las columnas numéricas que tenemos en nuestro Dataset. \n",
        "\n",
        "Para ello vamos a realizar un diagrama de cajas. "
      ],
      "metadata": {
        "id": "mYc3x3idcSp7"
      }
    },
    {
      "cell_type": "code",
      "source": [
        "boxplot_age = df['Age']\n",
        "plt.boxplot(boxplot_age)\n",
        "plt.title('Boxplot edad')\n",
        "plt.show()"
      ],
      "metadata": {
        "colab": {
          "base_uri": "https://localhost:8080/",
          "height": 451
        },
        "id": "EGnd3qve7gyJ",
        "outputId": "7eca15eb-c643-4337-ead4-617b779b2d55"
      },
      "execution_count": 10,
      "outputs": [
        {
          "output_type": "display_data",
          "data": {
            "text/plain": [
              "<Figure size 640x480 with 1 Axes>"
            ],
            "image/png": "[encoded data removed]"
          },
          "metadata": {}
        }
      ]
    },
    {
      "cell_type": "code",
      "source": [
        "min = df['Age'].min()\n",
        "max = df['Age'].max()\n",
        "print(min,max)"
      ],
      "metadata": {
        "colab": {
          "base_uri": "https://localhost:8080/"
        },
        "id": "vNXpfUy080nl",
        "outputId": "dd78ddc4-279c-42f8-c90e-310346b0c867"
      },
      "execution_count": 11,
      "outputs": [
        {
          "output_type": "stream",
          "name": "stdout",
          "text": [
            "10.0 97.0\n"
          ]
        }
      ]
    },
    {
      "cell_type": "markdown",
      "source": [
        "Con el diagrama de cajas y observando los valores máximos y mínimos hay algo que nos sorprende. \n",
        "\n",
        "Primero la edad mínima que sea de 10 años, se ha buscado información y el Comité de Juegos Olímpicos no manifiesta que exista una edad mínima para poder jugar a los juegos. Si biene es verdad, expone que hay diferentes juegos que **sí** que tienen límite de edad. Se ha decidido no realizar ningún cambio hacia estos valores.\n",
        "Lo mismo pasa con la edad máximo, de hecho, exponen que **no** existe una edad máxima para jugar."
      ],
      "metadata": {
        "id": "0tNJF4jfcgsV"
      }
    },
    {
      "cell_type": "code",
      "source": [
        "boxplot_weight = df['Weight']\n",
        "plt.boxplot(boxplot_weight)\n",
        "plt.title('Boxplot peso')\n",
        "plt.show()"
      ],
      "metadata": {
        "colab": {
          "base_uri": "https://localhost:8080/",
          "height": 451
        },
        "id": "NRCtUCuu780O",
        "outputId": "69ee1045-0f4d-4a5a-9b03-e0ef905d582c"
      },
      "execution_count": 12,
      "outputs": [
        {
          "output_type": "display_data",
          "data": {
            "text/plain": [
              "<Figure size 640x480 with 1 Axes>"
            ],
            "image/png": "[encoded data removed]"
          },
          "metadata": {}
        }
      ]
    },
    {
      "cell_type": "code",
      "source": [
        "min = df['Weight'].min()\n",
        "max = df['Weight'].max()\n",
        "print(min,max)"
      ],
      "metadata": {
        "colab": {
          "base_uri": "https://localhost:8080/"
        },
        "id": "usgt2Wh_-080",
        "outputId": "0e923198-a4e4-42e2-bcb6-466163296367"
      },
      "execution_count": 13,
      "outputs": [
        {
          "output_type": "stream",
          "name": "stdout",
          "text": [
            "25.0 214.0\n"
          ]
        }
      ]
    },
    {
      "cell_type": "markdown",
      "source": [
        "En los Juegos existen diferentes deportes y que cada uno de ellos se necesita un peso diferente, o es mejor, llegar a un peso concreto. Por esto no se va a realizar ningún cambio.\n",
        "\n",
        "Si bien es verdad nos sorprende el peso mínimo, pero viendo la edad mínima no vamos a realizar nada. "
      ],
      "metadata": {
        "id": "hf05y80bdhd-"
      }
    },
    {
      "cell_type": "code",
      "source": [
        "boxplot_Height = df['Height']\n",
        "plt.boxplot(boxplot_Height)\n",
        "plt.title('Boxplot altura')\n",
        "plt.show()"
      ],
      "metadata": {
        "colab": {
          "base_uri": "https://localhost:8080/",
          "height": 451
        },
        "id": "81FOWRnT_WN9",
        "outputId": "a21c0e46-d19b-4c6d-da98-f6def6e1c1a7"
      },
      "execution_count": 14,
      "outputs": [
        {
          "output_type": "display_data",
          "data": {
            "text/plain": [
              "<Figure size 640x480 with 1 Axes>"
            ],
            "image/png": "[encoded data removed]"
          },
          "metadata": {}
        }
      ]
    },
    {
      "cell_type": "code",
      "source": [
        "min = df['Height'].min()\n",
        "max = df['Height'].max()\n",
        "print(min,max)"
      ],
      "metadata": {
        "colab": {
          "base_uri": "https://localhost:8080/"
        },
        "id": "9AYiubd8_eCf",
        "outputId": "571da378-c348-4c60-aab2-04353a719e51"
      },
      "execution_count": 15,
      "outputs": [
        {
          "output_type": "stream",
          "name": "stdout",
          "text": [
            "127.0 226.0\n"
          ]
        }
      ]
    },
    {
      "cell_type": "markdown",
      "source": [
        "Por lo mismo que pasa con la variable 'Weight' no se va a realizar ningún cambio. En el caso de esta variable que nos explica la altura no nos soprenden estos valores.\n",
        "\n",
        "\n",
        "Para el primer ejercicio debemos de separar nuestro Dataset en datos de entrenamiento y en datos de test. Se realiza esta partición ya que, para ejercicios posteriores se utilizará el algoritmo de **KNN**, y este es un algoritmo de **aprendizaje supervisado** para clasificar. Es importante separar el dataset, para que el algoritmo sea capaz de clasificar unos individuos que **no** haya visto nunca. "
      ],
      "metadata": {
        "id": "bdzgwxiYd9Ua"
      }
    },
    {
      "cell_type": "code",
      "source": [
        "col = ['Medal']\n",
        "colum = list(set(df.columns) - set(col))\n",
        "PruebaX = df[colum]\n",
        "PruebaY= df[['Medal']]\n",
        "\n",
        "# Dividir el conjunto de datos en un conjunto de entrenamiento y un conjunto de prueba\n",
        "X_train, X_test, y_train, y_test = train_test_split(PruebaX, PruebaY, test_size=0.2, random_state=42)"
      ],
      "metadata": {
        "id": "d8G8voksf_Jd"
      },
      "execution_count": 16,
      "outputs": []
    },
    {
      "cell_type": "markdown",
      "source": [
        "Para el segundo ejercicio se pide la implementación de dos métricas principales. La primera métrica corresponde al número de individuos que vamos a utilizar para clasificar el nuevo individuo. \n",
        "Para esta primera métrica se han decicido utilizar estos valores : 3,5 y 7 individuos.\n",
        "Para la segunda métrica se pide que midamos la cercanía del nuevo individuo con el resto, con esto vamos a utilizar las distancias que ya se han estudiado: Euclídea, Manhattan y Minkowski. Donde la distancia euclídea es la distancia “ordinaria” entre dos puntos de un espacio euclídeo. La Manhattan la suma de las diferencias absolutas de sus coordenadas. La Minkowski es una medida de distancia en un espacio n-dimensional, generalizando la distancia Euclidiana y la distancia Manhattan.\n",
        "\n",
        "Todas ellas son utilizadas para valores continuos, por eso se ha pensado que se le va asignar un valor numérico a diferentes valores de las columnas de nuestro Dataset. Es decir, si en la columna 'Sport' existe Football se le puede asignar un valor 1, y al Basketball un valor de 19. Para ello se va a utilizar la función *LabelEncoder*.\n",
        "Se ha decidido también realizar esta transformación porque el algoritmo de KNN (el que se va a utilizar) necesita valores numéricos.\n",
        "\n"
      ],
      "metadata": {
        "id": "io_HPY51hB3K"
      }
    },
    {
      "cell_type": "code",
      "source": [
        "le = LabelEncoder()\n",
        "for col in PruebaX.columns: #Cambiar los strings del dataframe de x\n",
        "    if PruebaX[col].dtype == 'object':\n",
        "        PruebaX[col] = le.fit_transform(PruebaX[col])\n",
        "for col in PruebaY.columns: #Cambiar los strings del dataframe de y\n",
        "    if PruebaY[col].dtype == 'object':\n",
        "        PruebaY[col] = le.fit_transform(PruebaY[col])\n",
        "\n",
        "\n",
        "X_train, X_test, y_train, y_test = train_test_split(PruebaX, PruebaY, test_size=0.2, random_state=42)\n",
        "\n",
        "# Definir las métricas\n",
        "k_values = [3, 5, 7]\n",
        "distance_metrics = ['euclidean', 'manhattan', 'minkowski']\n",
        "\n",
        "# Para crear la tabla de salida\n",
        "table = PrettyTable()\n",
        "table.field_names = [\"k\", \"metric\", \"accuracy\", \"error_medio\"]\n",
        "\n",
        "# Evaluamos el modelo para k y la distancia\n",
        "for k in k_values:\n",
        "    for metric in distance_metrics:\n",
        "        # Función fit entrena el modelo\n",
        "        model = KNeighborsClassifier(n_neighbors=k, metric=metric)\n",
        "        model.fit(X_train, y_train)\n",
        "        \n",
        "        # Predecimos con el set de prueba\n",
        "        y_pred = model.predict(X_test)\n",
        "        \n",
        "        # Calculamos la precisión\n",
        "        accuracy = accuracy_score(y_test, y_pred)\n",
        "\n",
        "        # Calculamos el error medio (RMSE) \n",
        "        mse = mean_squared_error(y_test, y_pred)\n",
        "        rmse = sqrt(mse)        \n",
        "        \n",
        "        # Agregar la configuración y la precisión del modelo a la tabla\n",
        "        table.add_row([k, metric, accuracy, rmse])\n",
        "\n",
        "print(table)"
      ],
      "metadata": {
        "colab": {
          "base_uri": "https://localhost:8080/"
        },
        "id": "KPlFFs-Qkvhf",
        "outputId": "30df5491-aa0a-4473-e3b1-d0821f7dec5a"
      },
      "execution_count": 17,
      "outputs": [
        {
          "output_type": "stream",
          "name": "stderr",
          "text": [
            "<ipython-input-17-42e25b5a1253>:4: SettingWithCopyWarning: \n",
            "A value is trying to be set on a copy of a slice from a DataFrame.\n",
            "Try using .loc[row_indexer,col_indexer] = value instead\n",
            "\n",
            "See the caveats in the documentation: https://pandas.pydata.org/pandas-docs/stable/user_guide/indexing.html#returning-a-view-versus-a-copy\n",
            "  PruebaX[col] = le.fit_transform(PruebaX[col])\n",
            "<ipython-input-17-42e25b5a1253>:4: SettingWithCopyWarning: \n",
            "A value is trying to be set on a copy of a slice from a DataFrame.\n",
            "Try using .loc[row_indexer,col_indexer] = value instead\n",
            "\n",
            "See the caveats in the documentation: https://pandas.pydata.org/pandas-docs/stable/user_guide/indexing.html#returning-a-view-versus-a-copy\n",
            "  PruebaX[col] = le.fit_transform(PruebaX[col])\n",
            "<ipython-input-17-42e25b5a1253>:4: SettingWithCopyWarning: \n",
            "A value is trying to be set on a copy of a slice from a DataFrame.\n",
            "Try using .loc[row_indexer,col_indexer] = value instead\n",
            "\n",
            "See the caveats in the documentation: https://pandas.pydata.org/pandas-docs/stable/user_guide/indexing.html#returning-a-view-versus-a-copy\n",
            "  PruebaX[col] = le.fit_transform(PruebaX[col])\n",
            "<ipython-input-17-42e25b5a1253>:4: SettingWithCopyWarning: \n",
            "A value is trying to be set on a copy of a slice from a DataFrame.\n",
            "Try using .loc[row_indexer,col_indexer] = value instead\n",
            "\n",
            "See the caveats in the documentation: https://pandas.pydata.org/pandas-docs/stable/user_guide/indexing.html#returning-a-view-versus-a-copy\n",
            "  PruebaX[col] = le.fit_transform(PruebaX[col])\n",
            "<ipython-input-17-42e25b5a1253>:4: SettingWithCopyWarning: \n",
            "A value is trying to be set on a copy of a slice from a DataFrame.\n",
            "Try using .loc[row_indexer,col_indexer] = value instead\n",
            "\n",
            "See the caveats in the documentation: https://pandas.pydata.org/pandas-docs/stable/user_guide/indexing.html#returning-a-view-versus-a-copy\n",
            "  PruebaX[col] = le.fit_transform(PruebaX[col])\n",
            "<ipython-input-17-42e25b5a1253>:4: SettingWithCopyWarning: \n",
            "A value is trying to be set on a copy of a slice from a DataFrame.\n",
            "Try using .loc[row_indexer,col_indexer] = value instead\n",
            "\n",
            "See the caveats in the documentation: https://pandas.pydata.org/pandas-docs/stable/user_guide/indexing.html#returning-a-view-versus-a-copy\n",
            "  PruebaX[col] = le.fit_transform(PruebaX[col])\n",
            "<ipython-input-17-42e25b5a1253>:7: SettingWithCopyWarning: \n",
            "A value is trying to be set on a copy of a slice from a DataFrame.\n",
            "Try using .loc[row_indexer,col_indexer] = value instead\n",
            "\n",
            "See the caveats in the documentation: https://pandas.pydata.org/pandas-docs/stable/user_guide/indexing.html#returning-a-view-versus-a-copy\n",
            "  PruebaY[col] = le.fit_transform(PruebaY[col])\n",
            "/usr/local/lib/python3.9/dist-packages/sklearn/neighbors/_classification.py:215: DataConversionWarning: A column-vector y was passed when a 1d array was expected. Please change the shape of y to (n_samples,), for example using ravel().\n",
            "  return self._fit(X, y)\n",
            "/usr/local/lib/python3.9/dist-packages/sklearn/neighbors/_classification.py:215: DataConversionWarning: A column-vector y was passed when a 1d array was expected. Please change the shape of y to (n_samples,), for example using ravel().\n",
            "  return self._fit(X, y)\n",
            "/usr/local/lib/python3.9/dist-packages/sklearn/neighbors/_classification.py:215: DataConversionWarning: A column-vector y was passed when a 1d array was expected. Please change the shape of y to (n_samples,), for example using ravel().\n",
            "  return self._fit(X, y)\n",
            "/usr/local/lib/python3.9/dist-packages/sklearn/neighbors/_classification.py:215: DataConversionWarning: A column-vector y was passed when a 1d array was expected. Please change the shape of y to (n_samples,), for example using ravel().\n",
            "  return self._fit(X, y)\n",
            "/usr/local/lib/python3.9/dist-packages/sklearn/neighbors/_classification.py:215: DataConversionWarning: A column-vector y was passed when a 1d array was expected. Please change the shape of y to (n_samples,), for example using ravel().\n",
            "  return self._fit(X, y)\n",
            "/usr/local/lib/python3.9/dist-packages/sklearn/neighbors/_classification.py:215: DataConversionWarning: A column-vector y was passed when a 1d array was expected. Please change the shape of y to (n_samples,), for example using ravel().\n",
            "  return self._fit(X, y)\n",
            "/usr/local/lib/python3.9/dist-packages/sklearn/neighbors/_classification.py:215: DataConversionWarning: A column-vector y was passed when a 1d array was expected. Please change the shape of y to (n_samples,), for example using ravel().\n",
            "  return self._fit(X, y)\n",
            "/usr/local/lib/python3.9/dist-packages/sklearn/neighbors/_classification.py:215: DataConversionWarning: A column-vector y was passed when a 1d array was expected. Please change the shape of y to (n_samples,), for example using ravel().\n",
            "  return self._fit(X, y)\n",
            "/usr/local/lib/python3.9/dist-packages/sklearn/neighbors/_classification.py:215: DataConversionWarning: A column-vector y was passed when a 1d array was expected. Please change the shape of y to (n_samples,), for example using ravel().\n",
            "  return self._fit(X, y)\n"
          ]
        },
        {
          "output_type": "stream",
          "name": "stdout",
          "text": [
            "+---+-----------+--------------------+--------------------+\n",
            "| k |   metric  |      accuracy      |    error_medio     |\n",
            "+---+-----------+--------------------+--------------------+\n",
            "| 3 | euclidean | 0.8069673945116553 | 0.6975619346695399 |\n",
            "| 3 | manhattan | 0.8092173207435822 | 0.6979583893390393 |\n",
            "| 3 | minkowski | 0.8069673945116553 | 0.6975619346695399 |\n",
            "| 5 | euclidean | 0.8325280318678077 | 0.6100340049246068 |\n",
            "| 5 | manhattan | 0.8339849513130717 | 0.6083538634164065 |\n",
            "| 5 | minkowski | 0.8325280318678077 | 0.6100340049246068 |\n",
            "| 7 | euclidean | 0.8444969017409265 | 0.5758363386716655 |\n",
            "| 7 | manhattan | 0.8443862496311596 | 0.5766684262954771 |\n",
            "| 7 | minkowski | 0.8444969017409265 | 0.5758363386716655 |\n",
            "+---+-----------+--------------------+--------------------+\n"
          ]
        }
      ]
    },
    {
      "cell_type": "markdown",
      "source": [
        "De la tabla podemos explicar que:\n",
        "No nos importa utilizar la distancia euclidea y la de minkowski ya que para cada k, indiferentemente de cuál sea, siempre obtenemos los mimos valores.\n",
        "\n",
        " ¿Por qué puede ser? la distancia euclídea es un caso particular de la distancia de Minkowski. Conocemos que ambas distancias miden la distancia entre dos puntos en un espacio de n-dimensiones. La euclídea mide la distancia directa entre dos puntos y la minkowski lo hace ajustando el grado de importancia que se le da a cada dimensión en función de un parámetro p. Cuando a 'p' se le asigna un valor lo que hace la distancia de Minkowski es reducir dicho valor a la distancia euclídea. Lo que hace que ambos valores sean iguales.\n",
        "\n",
        "Otra cosa que vemos en la tabla es que, a medida que el número de individuos crece, la precisión también crece y el valor del error baja. (Vamoa a realizar otra prueba para comprobar esto)."
      ],
      "metadata": {
        "id": "jU98HEaolbXI"
      }
    },
    {
      "cell_type": "code",
      "source": [
        "# Definir las métricas\n",
        "k_values = [5, 7, 11]\n",
        "distance_metrics = ['euclidean', 'manhattan', 'minkowski']\n",
        "\n",
        "# Para crear la tabla de salida\n",
        "table = PrettyTable()\n",
        "table.field_names = [\"k\", \"metric\", \"accuracy\", \"error_medio\"]\n",
        "\n",
        "# Evaluamos el modelo para k y la distancia\n",
        "for k in k_values:\n",
        "    for metric in distance_metrics:\n",
        "        # Función fit entrena el modelo\n",
        "        model = KNeighborsClassifier(n_neighbors=k, metric=metric)\n",
        "        model.fit(X_train, y_train)\n",
        "        \n",
        "        # Predecimos con el set de prueba\n",
        "        y_pred = model.predict(X_test)\n",
        "        \n",
        "        # Calculamos la precisión\n",
        "        accuracy = accuracy_score(y_test, y_pred)\n",
        "\n",
        "        # Calculamos el error medio (RMSE) \n",
        "        mse = mean_squared_error(y_test, y_pred)\n",
        "        rmse = sqrt(mse)        \n",
        "        \n",
        "        # Agregar la configuración y la precisión del modelo a la tabla\n",
        "        table.add_row([k, metric, accuracy, rmse])\n",
        "\n",
        "print(table)"
      ],
      "metadata": {
        "colab": {
          "base_uri": "https://localhost:8080/"
        },
        "id": "iF-29W0hoWSz",
        "outputId": "85e290d8-3b30-4e7f-ba72-b4e22706ee04"
      },
      "execution_count": 18,
      "outputs": [
        {
          "output_type": "stream",
          "name": "stderr",
          "text": [
            "/usr/local/lib/python3.9/dist-packages/sklearn/neighbors/_classification.py:215: DataConversionWarning: A column-vector y was passed when a 1d array was expected. Please change the shape of y to (n_samples,), for example using ravel().\n",
            "  return self._fit(X, y)\n",
            "/usr/local/lib/python3.9/dist-packages/sklearn/neighbors/_classification.py:215: DataConversionWarning: A column-vector y was passed when a 1d array was expected. Please change the shape of y to (n_samples,), for example using ravel().\n",
            "  return self._fit(X, y)\n",
            "/usr/local/lib/python3.9/dist-packages/sklearn/neighbors/_classification.py:215: DataConversionWarning: A column-vector y was passed when a 1d array was expected. Please change the shape of y to (n_samples,), for example using ravel().\n",
            "  return self._fit(X, y)\n",
            "/usr/local/lib/python3.9/dist-packages/sklearn/neighbors/_classification.py:215: DataConversionWarning: A column-vector y was passed when a 1d array was expected. Please change the shape of y to (n_samples,), for example using ravel().\n",
            "  return self._fit(X, y)\n",
            "/usr/local/lib/python3.9/dist-packages/sklearn/neighbors/_classification.py:215: DataConversionWarning: A column-vector y was passed when a 1d array was expected. Please change the shape of y to (n_samples,), for example using ravel().\n",
            "  return self._fit(X, y)\n",
            "/usr/local/lib/python3.9/dist-packages/sklearn/neighbors/_classification.py:215: DataConversionWarning: A column-vector y was passed when a 1d array was expected. Please change the shape of y to (n_samples,), for example using ravel().\n",
            "  return self._fit(X, y)\n",
            "/usr/local/lib/python3.9/dist-packages/sklearn/neighbors/_classification.py:215: DataConversionWarning: A column-vector y was passed when a 1d array was expected. Please change the shape of y to (n_samples,), for example using ravel().\n",
            "  return self._fit(X, y)\n",
            "/usr/local/lib/python3.9/dist-packages/sklearn/neighbors/_classification.py:215: DataConversionWarning: A column-vector y was passed when a 1d array was expected. Please change the shape of y to (n_samples,), for example using ravel().\n",
            "  return self._fit(X, y)\n",
            "/usr/local/lib/python3.9/dist-packages/sklearn/neighbors/_classification.py:215: DataConversionWarning: A column-vector y was passed when a 1d array was expected. Please change the shape of y to (n_samples,), for example using ravel().\n",
            "  return self._fit(X, y)\n"
          ]
        },
        {
          "output_type": "stream",
          "name": "stdout",
          "text": [
            "+----+-----------+--------------------+--------------------+\n",
            "| k  |   metric  |      accuracy      |    error_medio     |\n",
            "+----+-----------+--------------------+--------------------+\n",
            "| 5  | euclidean | 0.8325280318678077 | 0.6100340049246068 |\n",
            "| 5  | manhattan | 0.8339849513130717 | 0.6083538634164065 |\n",
            "| 5  | minkowski | 0.8325280318678077 | 0.6100340049246068 |\n",
            "| 7  | euclidean | 0.8444969017409265 | 0.5758363386716655 |\n",
            "| 7  | manhattan | 0.8443862496311596 | 0.5766684262954771 |\n",
            "| 7  | minkowski | 0.8444969017409265 | 0.5758363386716655 |\n",
            "| 11 | euclidean | 0.8508225140159339 | 0.5540963098293823 |\n",
            "| 11 | manhattan | 0.8514311006196518 | 0.5538133315978703 |\n",
            "| 11 | minkowski | 0.8508225140159339 | 0.5540963098293823 |\n",
            "+----+-----------+--------------------+--------------------+\n"
          ]
        }
      ]
    },
    {
      "cell_type": "markdown",
      "source": [
        "Estábamos en lo cierto, a medida que aumentamos el valor de k, los valores son mejores. Esto se debe a que al aumentar el número de vecinos, el algoritmo considera una mayor cantidad de información de los datos cercanos al punto que queremos clasificar. Al tener en cuenta más vecinos, también se reduce el error que pueda haber cometido o, los outliers.\n",
        "\n",
        "Tras aplicar dicho algoritmo se ha pensado que, dependiendo del número que se le atribuya a una variable, esta va a coger más peso que otra. Es decir, si yo le atribuyo al fútbol femenino un 1 y al fútbol masculino un 9, tienen pesos diferentes, cuando en realidad no debería de ser así. Existen variables que tienen relación entre ellas y asignandoles un número estamos asignándoles un peso muy diferente. "
      ],
      "metadata": {
        "id": "EIkyogHKovos"
      }
    },
    {
      "cell_type": "markdown",
      "source": [
        "Para ello podemos realizar el ejercicio con otra forma de transformar los datos. Con one-hot encoding, sabemos que este atribuye valores binarios a las variables. También conocemos que existe una distancia que trabaja con valores categóricos, la distancia de **Hamming**. \n",
        "\n",
        "Antes de realizar el algoritmo de KNN, debemos de categorizar los valores continuos, así aplicamos sencillez al entrenamiento. "
      ],
      "metadata": {
        "id": "nyqcxxZup2Kw"
      }
    },
    {
      "cell_type": "code",
      "source": [
        "datos = df.copy()"
      ],
      "metadata": {
        "id": "mJONYuQSxPVD"
      },
      "execution_count": 19,
      "outputs": []
    },
    {
      "cell_type": "code",
      "source": [
        "corte1 = min\n",
        "corte2 = max\n",
        "datos['Weight_cat'] = \"Delgado\"\n",
        "datos.loc[(datos['Weight'] > corte1) & (datos['Weight'] <= corte2), 'Weight_cat'] = \"En forma\"\n",
        "datos.loc[datos['Weight'] > corte2, 'Weight_cat'] = \"Grande\""
      ],
      "metadata": {
        "id": "mSBlaAruqa0v"
      },
      "execution_count": 20,
      "outputs": []
    },
    {
      "cell_type": "code",
      "source": [
        "corte1 = min\n",
        "corte2 = max\n",
        "datos['Height_cat'] = \"Bajo\"\n",
        "datos.loc[(datos['Height'] > corte1) & (datos['Height'] <= corte2), 'Height_cat'] = \"Medio\"\n",
        "datos.loc[datos['Height'] > corte2, 'Height_cat'] = \"Alto\""
      ],
      "metadata": {
        "id": "f8vxlshOqgLN"
      },
      "execution_count": 21,
      "outputs": []
    },
    {
      "cell_type": "code",
      "source": [
        "corte1 = min\n",
        "corte2 = max\n",
        "datos['Age_cat'] = \"Baja\"\n",
        "datos.loc[(datos['Age'] > corte1) & (datos['Age'] <= corte2), 'Age_cat'] = \"Media\"\n",
        "datos.loc[datos['Age'] > corte2, 'Age_cat'] = \"Alta\""
      ],
      "metadata": {
        "id": "75lL9lyDqji1"
      },
      "execution_count": 22,
      "outputs": []
    },
    {
      "cell_type": "code",
      "source": [
        "datos = datos.drop(['Age', 'Height', 'Weight'], axis=1)\n",
        "datos"
      ],
      "metadata": {
        "colab": {
          "base_uri": "https://localhost:8080/",
          "height": 621
        },
        "id": "vK9V8XYmqmdk",
        "outputId": "85c7bb8e-e86a-40ca-9115-b41f64d380ee"
      },
      "execution_count": 23,
      "outputs": [
        {
          "output_type": "execute_result",
          "data": {
            "text/plain": [
              "                            Name Sex  NOC        Games          Sport  \\\n",
              "0                      A Dijiang   M  CHN  1992 Summer     Basketball   \n",
              "1                       A Lamusi   M  CHN  2012 Summer           Judo   \n",
              "2            Gunnar Nielsen Aaby   M  DEN  1920 Summer       Football   \n",
              "3           Edgar Lindenau Aabye   M  DEN  1900 Summer     Tug-Of-War   \n",
              "4       Christine Jacoba Aaftink   F  NED  1988 Winter  Speed Skating   \n",
              "...                          ...  ..  ...          ...            ...   \n",
              "271111                Andrzej ya   M  POL  1976 Winter           Luge   \n",
              "271112                  Piotr ya   M  POL  2014 Winter    Ski Jumping   \n",
              "271113                  Piotr ya   M  POL  2014 Winter    Ski Jumping   \n",
              "271114        Tomasz Ireneusz ya   M  POL  1998 Winter      Bobsleigh   \n",
              "271115        Tomasz Ireneusz ya   M  POL  2002 Winter      Bobsleigh   \n",
              "\n",
              "                                           Event Medal Weight_cat Height_cat  \\\n",
              "0                    Basketball Men's Basketball    No    Delgado      Medio   \n",
              "1                   Judo Men's Extra-Lightweight    No    Delgado      Medio   \n",
              "2                        Football Men's Football    No    Delgado      Medio   \n",
              "3                    Tug-Of-War Men's Tug-Of-War  Gold    Delgado      Medio   \n",
              "4               Speed Skating Women's 500 metres    No    Delgado      Medio   \n",
              "...                                          ...   ...        ...        ...   \n",
              "271111                Luge Mixed (Men)'s Doubles    No    Delgado      Medio   \n",
              "271112  Ski Jumping Men's Large Hill, Individual    No    Delgado      Medio   \n",
              "271113        Ski Jumping Men's Large Hill, Team    No    Delgado      Medio   \n",
              "271114                      Bobsleigh Men's Four    No    Delgado      Medio   \n",
              "271115                      Bobsleigh Men's Four    No    Delgado      Medio   \n",
              "\n",
              "       Age_cat  \n",
              "0         Baja  \n",
              "1         Baja  \n",
              "2         Baja  \n",
              "3         Baja  \n",
              "4         Baja  \n",
              "...        ...  \n",
              "271111    Baja  \n",
              "271112    Baja  \n",
              "271113    Baja  \n",
              "271114    Baja  \n",
              "271115    Baja  \n",
              "\n",
              "[271116 rows x 10 columns]"
            ],
            "text/html": [
              "\n",
              "  <div id=\"df-6a21ccde-ee3c-4a9c-b443-7c0fabe0a9ec\">\n",
              "    <div class=\"colab-df-container\">\n",
              "      <div>\n",
              "<style scoped>\n",
              "    .dataframe tbody tr th:only-of-type {\n",
              "        vertical-align: middle;\n",
              "    }\n",
              "\n",
              "    .dataframe tbody tr th {\n",
              "        vertical-align: top;\n",
              "    }\n",
              "\n",
              "    .dataframe thead th {\n",
              "        text-align: right;\n",
              "    }\n",
              "</style>\n",
              "<table border=\"1\" class=\"dataframe\">\n",
              "  <thead>\n",
              "    <tr style=\"text-align: right;\">\n",
              "      <th></th>\n",
              "      <th>Name</th>\n",
              "      <th>Sex</th>\n",
              "      <th>NOC</th>\n",
              "      <th>Games</th>\n",
              "      <th>Sport</th>\n",
              "      <th>Event</th>\n",
              "      <th>Medal</th>\n",
              "      <th>Weight_cat</th>\n",
              "      <th>Height_cat</th>\n",
              "      <th>Age_cat</th>\n",
              "    </tr>\n",
              "  </thead>\n",
              "  <tbody>\n",
              "    <tr>\n",
              "      <th>0</th>\n",
              "      <td>A Dijiang</td>\n",
              "      <td>M</td>\n",
              "      <td>CHN</td>\n",
              "      <td>1992 Summer</td>\n",
              "      <td>Basketball</td>\n",
              "      <td>Basketball Men's Basketball</td>\n",
              "      <td>No</td>\n",
              "      <td>Delgado</td>\n",
              "      <td>Medio</td>\n",
              "      <td>Baja</td>\n",
              "    </tr>\n",
              "    <tr>\n",
              "      <th>1</th>\n",
              "      <td>A Lamusi</td>\n",
              "      <td>M</td>\n",
              "      <td>CHN</td>\n",
              "      <td>2012 Summer</td>\n",
              "      <td>Judo</td>\n",
              "      <td>Judo Men's Extra-Lightweight</td>\n",
              "      <td>No</td>\n",
              "      <td>Delgado</td>\n",
              "      <td>Medio</td>\n",
              "      <td>Baja</td>\n",
              "    </tr>\n",
              "    <tr>\n",
              "      <th>2</th>\n",
              "      <td>Gunnar Nielsen Aaby</td>\n",
              "      <td>M</td>\n",
              "      <td>DEN</td>\n",
              "      <td>1920 Summer</td>\n",
              "      <td>Football</td>\n",
              "      <td>Football Men's Football</td>\n",
              "      <td>No</td>\n",
              "      <td>Delgado</td>\n",
              "      <td>Medio</td>\n",
              "      <td>Baja</td>\n",
              "    </tr>\n",
              "    <tr>\n",
              "      <th>3</th>\n",
              "      <td>Edgar Lindenau Aabye</td>\n",
              "      <td>M</td>\n",
              "      <td>DEN</td>\n",
              "      <td>1900 Summer</td>\n",
              "      <td>Tug-Of-War</td>\n",
              "      <td>Tug-Of-War Men's Tug-Of-War</td>\n",
              "      <td>Gold</td>\n",
              "      <td>Delgado</td>\n",
              "      <td>Medio</td>\n",
              "      <td>Baja</td>\n",
              "    </tr>\n",
              "    <tr>\n",
              "      <th>4</th>\n",
              "      <td>Christine Jacoba Aaftink</td>\n",
              "      <td>F</td>\n",
              "      <td>NED</td>\n",
              "      <td>1988 Winter</td>\n",
              "      <td>Speed Skating</td>\n",
              "      <td>Speed Skating Women's 500 metres</td>\n",
              "      <td>No</td>\n",
              "      <td>Delgado</td>\n",
              "      <td>Medio</td>\n",
              "      <td>Baja</td>\n",
              "    </tr>\n",
              "    <tr>\n",
              "      <th>...</th>\n",
              "      <td>...</td>\n",
              "      <td>...</td>\n",
              "      <td>...</td>\n",
              "      <td>...</td>\n",
              "      <td>...</td>\n",
              "      <td>...</td>\n",
              "      <td>...</td>\n",
              "      <td>...</td>\n",
              "      <td>...</td>\n",
              "      <td>...</td>\n",
              "    </tr>\n",
              "    <tr>\n",
              "      <th>271111</th>\n",
              "      <td>Andrzej ya</td>\n",
              "      <td>M</td>\n",
              "      <td>POL</td>\n",
              "      <td>1976 Winter</td>\n",
              "      <td>Luge</td>\n",
              "      <td>Luge Mixed (Men)'s Doubles</td>\n",
              "      <td>No</td>\n",
              "      <td>Delgado</td>\n",
              "      <td>Medio</td>\n",
              "      <td>Baja</td>\n",
              "    </tr>\n",
              "    <tr>\n",
              "      <th>271112</th>\n",
              "      <td>Piotr ya</td>\n",
              "      <td>M</td>\n",
              "      <td>POL</td>\n",
              "      <td>2014 Winter</td>\n",
              "      <td>Ski Jumping</td>\n",
              "      <td>Ski Jumping Men's Large Hill, Individual</td>\n",
              "      <td>No</td>\n",
              "      <td>Delgado</td>\n",
              "      <td>Medio</td>\n",
              "      <td>Baja</td>\n",
              "    </tr>\n",
              "    <tr>\n",
              "      <th>271113</th>\n",
              "      <td>Piotr ya</td>\n",
              "      <td>M</td>\n",
              "      <td>POL</td>\n",
              "      <td>2014 Winter</td>\n",
              "      <td>Ski Jumping</td>\n",
              "      <td>Ski Jumping Men's Large Hill, Team</td>\n",
              "      <td>No</td>\n",
              "      <td>Delgado</td>\n",
              "      <td>Medio</td>\n",
              "      <td>Baja</td>\n",
              "    </tr>\n",
              "    <tr>\n",
              "      <th>271114</th>\n",
              "      <td>Tomasz Ireneusz ya</td>\n",
              "      <td>M</td>\n",
              "      <td>POL</td>\n",
              "      <td>1998 Winter</td>\n",
              "      <td>Bobsleigh</td>\n",
              "      <td>Bobsleigh Men's Four</td>\n",
              "      <td>No</td>\n",
              "      <td>Delgado</td>\n",
              "      <td>Medio</td>\n",
              "      <td>Baja</td>\n",
              "    </tr>\n",
              "    <tr>\n",
              "      <th>271115</th>\n",
              "      <td>Tomasz Ireneusz ya</td>\n",
              "      <td>M</td>\n",
              "      <td>POL</td>\n",
              "      <td>2002 Winter</td>\n",
              "      <td>Bobsleigh</td>\n",
              "      <td>Bobsleigh Men's Four</td>\n",
              "      <td>No</td>\n",
              "      <td>Delgado</td>\n",
              "      <td>Medio</td>\n",
              "      <td>Baja</td>\n",
              "    </tr>\n",
              "  </tbody>\n",
              "</table>\n",
              "<p>271116 rows × 10 columns</p>\n",
              "</div>\n",
              "      <button class=\"colab-df-convert\" onclick=\"convertToInteractive('df-6a21ccde-ee3c-4a9c-b443-7c0fabe0a9ec')\"\n",
              "              title=\"Convert this dataframe to an interactive table.\"\n",
              "              style=\"display:none;\">\n",
              "        \n",
              "  <svg xmlns=\"http://www.w3.org/2000/svg\" height=\"24px\"viewBox=\"0 0 24 24\"\n",
              "       width=\"24px\">\n",
              "    <path d=\"M0 0h24v24H0V0z\" fill=\"none\"/>\n",
              "    <path d=\"M18.56 5.44l.94 2.06.94-2.06 2.06-.94-2.06-.94-.94-2.06-.94 2.06-2.06.94zm-11 1L8.5 8.5l.94-2.06 2.06-.94-2.06-.94L8.5 2.5l-.94 2.06-2.06.94zm10 10l.94 2.06.94-2.06 2.06-.94-2.06-.94-.94-2.06-.94 2.06-2.06.94z\"/><path d=\"M17.41 7.96l-1.37-1.37c-.4-.4-.92-.59-1.43-.59-.52 0-1.04.2-1.43.59L10.3 9.45l-7.72 7.72c-.78.78-.78 2.05 0 2.83L4 21.41c.39.39.9.59 1.41.59.51 0 1.02-.2 1.41-.59l7.78-7.78 2.81-2.81c.8-.78.8-2.07 0-2.86zM5.41 20L4 18.59l7.72-7.72 1.47 1.35L5.41 20z\"/>\n",
              "  </svg>\n",
              "      </button>\n",
              "      \n",
              "  <style>\n",
              "    .colab-df-container {\n",
              "      display:flex;\n",
              "      flex-wrap:wrap;\n",
              "      gap: 12px;\n",
              "    }\n",
              "\n",
              "    .colab-df-convert {\n",
              "      background-color: #E8F0FE;\n",
              "      border: none;\n",
              "      border-radius: 50%;\n",
              "      cursor: pointer;\n",
              "      display: none;\n",
              "      fill: #1967D2;\n",
              "      height: 32px;\n",
              "      padding: 0 0 0 0;\n",
              "      width: 32px;\n",
              "    }\n",
              "\n",
              "    .colab-df-convert:hover {\n",
              "      background-color: #E2EBFA;\n",
              "      box-shadow: 0px 1px 2px rgba(60, 64, 67, 0.3), 0px 1px 3px 1px rgba(60, 64, 67, 0.15);\n",
              "      fill: #174EA6;\n",
              "    }\n",
              "\n",
              "    [theme=dark] .colab-df-convert {\n",
              "      background-color: #3B4455;\n",
              "      fill: #D2E3FC;\n",
              "    }\n",
              "\n",
              "    [theme=dark] .colab-df-convert:hover {\n",
              "      background-color: #434B5C;\n",
              "      box-shadow: 0px 1px 3px 1px rgba(0, 0, 0, 0.15);\n",
              "      filter: drop-shadow(0px 1px 2px rgba(0, 0, 0, 0.3));\n",
              "      fill: #FFFFFF;\n",
              "    }\n",
              "  </style>\n",
              "\n",
              "      <script>\n",
              "        const buttonEl =\n",
              "          document.querySelector('#df-6a21ccde-ee3c-4a9c-b443-7c0fabe0a9ec button.colab-df-convert');\n",
              "        buttonEl.style.display =\n",
              "          google.colab.kernel.accessAllowed ? 'block' : 'none';\n",
              "\n",
              "        async function convertToInteractive(key) {\n",
              "          const element = document.querySelector('#df-6a21ccde-ee3c-4a9c-b443-7c0fabe0a9ec');\n",
              "          const dataTable =\n",
              "            await google.colab.kernel.invokeFunction('convertToInteractive',\n",
              "                                                     [key], {});\n",
              "          if (!dataTable) return;\n",
              "\n",
              "          const docLinkHtml = 'Like what you see? Visit the ' +\n",
              "            '<a target=\"_blank\" href=https://colab.research.google.com/notebooks/data_table.ipynb>data table notebook</a>'\n",
              "            + ' to learn more about interactive tables.';\n",
              "          element.innerHTML = '';\n",
              "          dataTable['output_type'] = 'display_data';\n",
              "          await google.colab.output.renderOutput(dataTable, element);\n",
              "          const docLink = document.createElement('div');\n",
              "          docLink.innerHTML = docLinkHtml;\n",
              "          element.appendChild(docLink);\n",
              "        }\n",
              "      </script>\n",
              "    </div>\n",
              "  </div>\n",
              "  "
            ]
          },
          "metadata": {},
          "execution_count": 23
        }
      ]
    },
    {
      "cell_type": "markdown",
      "source": [
        "Ya se ha pasado los valores continuos a categóricos. Como antes se ha comentado, se ha realizado para utilizar el *One Hot Encoding* en el algoritmo de KNN. \n",
        "\n",
        "Este código se ha realizado pero el algoritmo tarda en ejecutarse, eso puede ser, por la cantidad de datos que tenemos. \n",
        "Nota: es muy parecido al código anterior ya que lo único que varia, es la transformación de los datos.\n",
        "\n",
        "Se ha pensado que se podría hacer una partición para ver que tal se comporta, pero hemos decidido no realizarlo, independientemente de que puedan trabajar mejor con *One Hot Encoding*. Ya que lo que quiero saber es que tal se comporta nuestro algoritmo ante **todos** los datos que tenemos. Se ha hablado del problema que teníamos con el *LaberEncoder* y se tiene en cuenta a la hora de ver los errores. \n",
        "\n",
        "En el tercer apartado pide que se esocoga la mejor configuración para el algoritmo. Implemetando una tabla para ver como evoluciona las configuraciones. Ya hemos visto gracias a la tabla como evoluciona el entrenamiento. \n",
        "Ahora lo que queremos ver es cómo se comporta nuestra mejor configuración. Vamos a coger la de k = 11 con la distancia **euclídea**. Recordemos: no nos importa utilizar la distancia euclídea o la Minkowski ya que obtenemos lo mismos números. Podemos comprobar esto con la matriz de confusión. "
      ],
      "metadata": {
        "id": "NhOAo--FwYqm"
      }
    },
    {
      "cell_type": "code",
      "source": [
        "k_range = range(1, 20)\n",
        "scores = []\n",
        "for k in k_range:\n",
        "    knn = KNeighborsClassifier(n_neighbors = k)\n",
        "    knn.fit(X_train, y_train)\n",
        "    scores.append(knn.score(X_test, y_test))\n",
        "plt.figure()\n",
        "plt.xlabel('k')\n",
        "plt.ylabel('accuracy')\n",
        "plt.scatter(k_range, scores)\n",
        "plt.xticks([0,5,10,15,20])"
      ],
      "metadata": {
        "colab": {
          "base_uri": "https://localhost:8080/",
          "height": 1000
        },
        "id": "iP_V4g-CMmO9",
        "outputId": "ea5c3210-4958-47ff-a3b5-298f28627592"
      },
      "execution_count": 24,
      "outputs": [
        {
          "output_type": "stream",
          "name": "stderr",
          "text": [
            "/usr/local/lib/python3.9/dist-packages/sklearn/neighbors/_classification.py:215: DataConversionWarning: A column-vector y was passed when a 1d array was expected. Please change the shape of y to (n_samples,), for example using ravel().\n",
            "  return self._fit(X, y)\n",
            "/usr/local/lib/python3.9/dist-packages/sklearn/neighbors/_classification.py:215: DataConversionWarning: A column-vector y was passed when a 1d array was expected. Please change the shape of y to (n_samples,), for example using ravel().\n",
            "  return self._fit(X, y)\n",
            "/usr/local/lib/python3.9/dist-packages/sklearn/neighbors/_classification.py:215: DataConversionWarning: A column-vector y was passed when a 1d array was expected. Please change the shape of y to (n_samples,), for example using ravel().\n",
            "  return self._fit(X, y)\n",
            "/usr/local/lib/python3.9/dist-packages/sklearn/neighbors/_classification.py:215: DataConversionWarning: A column-vector y was passed when a 1d array was expected. Please change the shape of y to (n_samples,), for example using ravel().\n",
            "  return self._fit(X, y)\n",
            "/usr/local/lib/python3.9/dist-packages/sklearn/neighbors/_classification.py:215: DataConversionWarning: A column-vector y was passed when a 1d array was expected. Please change the shape of y to (n_samples,), for example using ravel().\n",
            "  return self._fit(X, y)\n",
            "/usr/local/lib/python3.9/dist-packages/sklearn/neighbors/_classification.py:215: DataConversionWarning: A column-vector y was passed when a 1d array was expected. Please change the shape of y to (n_samples,), for example using ravel().\n",
            "  return self._fit(X, y)\n",
            "/usr/local/lib/python3.9/dist-packages/sklearn/neighbors/_classification.py:215: DataConversionWarning: A column-vector y was passed when a 1d array was expected. Please change the shape of y to (n_samples,), for example using ravel().\n",
            "  return self._fit(X, y)\n",
            "/usr/local/lib/python3.9/dist-packages/sklearn/neighbors/_classification.py:215: DataConversionWarning: A column-vector y was passed when a 1d array was expected. Please change the shape of y to (n_samples,), for example using ravel().\n",
            "  return self._fit(X, y)\n",
            "/usr/local/lib/python3.9/dist-packages/sklearn/neighbors/_classification.py:215: DataConversionWarning: A column-vector y was passed when a 1d array was expected. Please change the shape of y to (n_samples,), for example using ravel().\n",
            "  return self._fit(X, y)\n",
            "/usr/local/lib/python3.9/dist-packages/sklearn/neighbors/_classification.py:215: DataConversionWarning: A column-vector y was passed when a 1d array was expected. Please change the shape of y to (n_samples,), for example using ravel().\n",
            "  return self._fit(X, y)\n",
            "/usr/local/lib/python3.9/dist-packages/sklearn/neighbors/_classification.py:215: DataConversionWarning: A column-vector y was passed when a 1d array was expected. Please change the shape of y to (n_samples,), for example using ravel().\n",
            "  return self._fit(X, y)\n",
            "/usr/local/lib/python3.9/dist-packages/sklearn/neighbors/_classification.py:215: DataConversionWarning: A column-vector y was passed when a 1d array was expected. Please change the shape of y to (n_samples,), for example using ravel().\n",
            "  return self._fit(X, y)\n",
            "/usr/local/lib/python3.9/dist-packages/sklearn/neighbors/_classification.py:215: DataConversionWarning: A column-vector y was passed when a 1d array was expected. Please change the shape of y to (n_samples,), for example using ravel().\n",
            "  return self._fit(X, y)\n",
            "/usr/local/lib/python3.9/dist-packages/sklearn/neighbors/_classification.py:215: DataConversionWarning: A column-vector y was passed when a 1d array was expected. Please change the shape of y to (n_samples,), for example using ravel().\n",
            "  return self._fit(X, y)\n",
            "/usr/local/lib/python3.9/dist-packages/sklearn/neighbors/_classification.py:215: DataConversionWarning: A column-vector y was passed when a 1d array was expected. Please change the shape of y to (n_samples,), for example using ravel().\n",
            "  return self._fit(X, y)\n",
            "/usr/local/lib/python3.9/dist-packages/sklearn/neighbors/_classification.py:215: DataConversionWarning: A column-vector y was passed when a 1d array was expected. Please change the shape of y to (n_samples,), for example using ravel().\n",
            "  return self._fit(X, y)\n",
            "/usr/local/lib/python3.9/dist-packages/sklearn/neighbors/_classification.py:215: DataConversionWarning: A column-vector y was passed when a 1d array was expected. Please change the shape of y to (n_samples,), for example using ravel().\n",
            "  return self._fit(X, y)\n",
            "/usr/local/lib/python3.9/dist-packages/sklearn/neighbors/_classification.py:215: DataConversionWarning: A column-vector y was passed when a 1d array was expected. Please change the shape of y to (n_samples,), for example using ravel().\n",
            "  return self._fit(X, y)\n",
            "/usr/local/lib/python3.9/dist-packages/sklearn/neighbors/_classification.py:215: DataConversionWarning: A column-vector y was passed when a 1d array was expected. Please change the shape of y to (n_samples,), for example using ravel().\n",
            "  return self._fit(X, y)\n"
          ]
        },
        {
          "output_type": "execute_result",
          "data": {
            "text/plain": [
              "([<matplotlib.axis.XTick at 0x7f374dfaa700>,\n",
              "  <matplotlib.axis.XTick at 0x7f374d63bcd0>,\n",
              "  <matplotlib.axis.XTick at 0x7f374d6404f0>,\n",
              "  <matplotlib.axis.XTick at 0x7f374d5638b0>,\n",
              "  <matplotlib.axis.XTick at 0x7f374d55c3a0>],\n",
              " [Text(0, 0, '0'),\n",
              "  Text(5, 0, '5'),\n",
              "  Text(10, 0, '10'),\n",
              "  Text(15, 0, '15'),\n",
              "  Text(20, 0, '20')])"
            ]
          },
          "metadata": {},
          "execution_count": 24
        },
        {
          "output_type": "display_data",
          "data": {
            "text/plain": [
              "<Figure size 640x480 with 1 Axes>"
            ],
            "image/png": "[encoded data removed]"
          },
          "metadata": {}
        }
      ]
    },
    {
      "cell_type": "markdown",
      "source": [
        "Observamos que para diferentes valores de k, la precisión va subiendo, como ya habíamos pensado."
      ],
      "metadata": {
        "id": "JR7-rQ2VNGbq"
      }
    },
    {
      "cell_type": "code",
      "source": [
        "model = KNeighborsClassifier(n_neighbors=11, metric=\"euclidean\")\n",
        "model.fit(X_train, y_train)\n",
        "\n",
        "y_pred = model.predict(X_test)\n",
        "print(confusion_matrix(y_test, y_pred))"
      ],
      "metadata": {
        "colab": {
          "base_uri": "https://localhost:8080/"
        },
        "id": "b1i7qRsYAKal",
        "outputId": "9baad96c-ad12-40ee-ec96-1a6c9896108b"
      },
      "execution_count": 25,
      "outputs": [
        {
          "output_type": "stream",
          "name": "stderr",
          "text": [
            "/usr/local/lib/python3.9/dist-packages/sklearn/neighbors/_classification.py:215: DataConversionWarning: A column-vector y was passed when a 1d array was expected. Please change the shape of y to (n_samples,), for example using ravel().\n",
            "  return self._fit(X, y)\n"
          ]
        },
        {
          "output_type": "stream",
          "name": "stdout",
          "text": [
            "[[   27    47  2605    13]\n",
            " [   15   164  2443    17]\n",
            " [   77   244 45929    40]\n",
            " [   23    58  2507    15]]\n"
          ]
        }
      ]
    },
    {
      "cell_type": "code",
      "source": [
        "model = KNeighborsClassifier(n_neighbors=11, metric=\"minkowski\")\n",
        "model.fit(X_train, y_train)\n",
        "\n",
        "y_pred = model.predict(X_test)\n",
        "print(confusion_matrix(y_test, y_pred))"
      ],
      "metadata": {
        "colab": {
          "base_uri": "https://localhost:8080/"
        },
        "id": "gNMxdUhpBgt0",
        "outputId": "9807d2ee-fffe-4dc5-bf16-7823c726ccd7"
      },
      "execution_count": 26,
      "outputs": [
        {
          "output_type": "stream",
          "name": "stderr",
          "text": [
            "/usr/local/lib/python3.9/dist-packages/sklearn/neighbors/_classification.py:215: DataConversionWarning: A column-vector y was passed when a 1d array was expected. Please change the shape of y to (n_samples,), for example using ravel().\n",
            "  return self._fit(X, y)\n"
          ]
        },
        {
          "output_type": "stream",
          "name": "stdout",
          "text": [
            "[[   27    47  2605    13]\n",
            " [   15   164  2443    17]\n",
            " [   77   244 45929    40]\n",
            " [   23    58  2507    15]]\n"
          ]
        }
      ]
    },
    {
      "cell_type": "markdown",
      "source": [
        "Obtenemos una matriz de confusión que muestra el rendimiento del modelo de clasificación K-Vecinos más Cercanos en los datos de prueba. \n",
        "\n",
        "Las filas en la matriz de confusión representan las clases verdaderas, es decir, los valores reales de la variable objetivo. Las columnas, por otro lado, representan las clases predichas por el modelo. Como en nuestro caso tenemos 4 clases a clasificar: Oro, Plata, Bronce y No medalla, nos sale una matriz 4x4. Como se ha realizado con la función *Label Encoder* se le ha asignado un valor aleatorio a los valores de clasificación. Debemos de saber a cuál se refiere cada uno para poder interpretar bien la matriz."
      ],
      "metadata": {
        "id": "jGF16RB9Bmbp"
      }
    },
    {
      "cell_type": "markdown",
      "source": [
        "Los valores son:\n",
        "*  Oro: 1\n",
        "*  Plata: 3\n",
        "*  Bronce: 0\n",
        "*  No medalla: 2"
      ],
      "metadata": {
        "id": "9kj-mUPqDX2R"
      }
    },
    {
      "cell_type": "code",
      "source": [
        "cm = confusion_matrix(y_test, y_pred)\n",
        "\n",
        "# Crear mapa de calor de la matriz de confusión\n",
        "sns.heatmap(cm, annot=True, cmap='Blues')\n",
        "\n",
        "# Agregar etiquetas\n",
        "plt.title('Matriz de Confusión')\n",
        "plt.xlabel('Predicción')\n",
        "plt.ylabel('Valor Verdadero')\n",
        "plt.show()"
      ],
      "metadata": {
        "colab": {
          "base_uri": "https://localhost:8080/",
          "height": 471
        },
        "id": "ViLti-9qE1F9",
        "outputId": "a5807418-933a-4679-dbbe-e404f17ed466"
      },
      "execution_count": 27,
      "outputs": [
        {
          "output_type": "display_data",
          "data": {
            "text/plain": [
              "<Figure size 640x480 with 2 Axes>"
            ],
            "image/png": "[encoded data removed]"
          },
          "metadata": {}
        }
      ]
    },
    {
      "cell_type": "markdown",
      "source": [
        "Conociendo los valores ya podemos sacar conclusiones. Sabemos que el valor que mejor predice es aquellos jugadores que **no** tienen medalla,  esto puede ser ya que es el valor que más predomina en nuestro Dataframe, es decir, hay muchos más valores. Seguido por la medalla de oro que es la segunda que mejor predice. Si bien es verdad, no nos parece que prediga de la mejor manera que habíamos esperado. También vemos que ha clasificado muchas veces que los jugadores no tenían medalla y si que tenían, esto pasa por lo que hemos dicho anteriormente, hay muchos valores de esta variable. \n",
        "\n",
        "La segunda configuración que nos parece la mejor, es la de k = 7 y, para variar de distancia, la distancia de Minkowski. \n",
        "\n"
      ],
      "metadata": {
        "id": "S_fQWEvuE_fX"
      }
    },
    {
      "cell_type": "markdown",
      "source": [
        "Para realizar un gráfico, al tener muchas características se hace imposible gráficar todas a la vez. Se he pensado que se puede realizar la gráfica de dos de las variables. \n",
        "\n",
        "Por ejemplo, vamos a realizar la gráfica en función del peso y la altura (que pueden tener una relación entre ellas). Los diferentes colores de la gráfica corresponden a los tipos de medalla que puede tener un jugador/a. "
      ],
      "metadata": {
        "id": "pvWeyTknU6Ke"
      }
    },
    {
      "cell_type": "code",
      "source": [
        "for col in PruebaX.columns:\n",
        "    if PruebaX[col].dtype == 'object':\n",
        "        PruebaX[col] = le.fit_transform(PruebaX[col])\n",
        "        \n",
        "# Cambiar los strings del dataframe de y\n",
        "for col in PruebaY.columns:\n",
        "    if PruebaY[col].dtype == 'object':\n",
        "        PruebaY[col] = le.fit_transform(PruebaY[col])\n",
        "\n",
        "# Crear el gráfico de dispersión\n",
        "plt.scatter(PruebaX['Weight'], PruebaX['Height'], c=PruebaY['Medal'], cmap='viridis')\n",
        "plt.xlabel('Peso')\n",
        "plt.ylabel('Altura')\n",
        "plt.colorbar()\n",
        "plt.show()"
      ],
      "metadata": {
        "id": "Mnaek331UbCH",
        "outputId": "d63599e5-c977-4565-c629-24c686a77c3c",
        "colab": {
          "base_uri": "https://localhost:8080/",
          "height": 454
        }
      },
      "execution_count": 28,
      "outputs": [
        {
          "output_type": "display_data",
          "data": {
            "text/plain": [
              "<Figure size 640x480 with 2 Axes>"
            ],
            "image/png": "[encoded data removed]"
          },
          "metadata": {}
        }
      ]
    },
    {
      "cell_type": "markdown",
      "source": [
        "Aquí podemos ver que el valor que más predomina es el 2, que son aquellas que no consiguen medalla. No observamos muy bien la diferncia de valores al clasificar.\n",
        "Se ha realizado para otros atributos y tampoco se encuentran patrones al tener un volumen muy elevado de datos. \n",
        "\n",
        "Podemos pensar que si realizamos una simplificación de la base de datos, cogiendo 500 filas que no se repitan. "
      ],
      "metadata": {
        "id": "QqtOdrdvXcRT"
      }
    },
    {
      "cell_type": "code",
      "source": [
        "PruebX = PruebaX.sample(n=500, replace=False)\n",
        "PruebY = PruebaY.sample(n=500, replace=False)\n",
        "for col in PruebaX.columns:\n",
        "    if PruebX[col].dtype == 'object':\n",
        "        PruebX[col] = le.fit_transform(PruebX[col])\n",
        "        \n",
        "# Cambiar los strings del dataframe de y\n",
        "for col in PruebY.columns:\n",
        "    if PruebY[col].dtype == 'object':\n",
        "        PruebY[col] = le.fit_transform(PruebY[col])\n",
        "\n",
        "# Crear el gráfico de dispersión\n",
        "plt.scatter(PruebX['Weight'], PruebX['Height'], c=PruebY['Medal'], cmap='viridis')\n",
        "plt.xlabel('Peso')\n",
        "plt.ylabel('Altura')\n",
        "plt.colorbar()\n",
        "plt.show()"
      ],
      "metadata": {
        "id": "ZYXt08tZY4Om",
        "outputId": "daa96c3c-4cd7-4672-a04a-c2a9bda60a14",
        "colab": {
          "base_uri": "https://localhost:8080/",
          "height": 454
        }
      },
      "execution_count": 29,
      "outputs": [
        {
          "output_type": "display_data",
          "data": {
            "text/plain": [
              "<Figure size 640x480 with 2 Axes>"
            ],
            "image/png": "[encoded data removed]"
          },
          "metadata": {}
        }
      ]
    },
    {
      "cell_type": "markdown",
      "source": [
        "Realmente tampoco conseguimos ver ningún patron válido. O no somos capaces de encontrarlo. "
      ],
      "metadata": {
        "id": "0g4nt3-nappO"
      }
    },
    {
      "cell_type": "markdown",
      "source": [
        "Para clasificar para saber que medalla es más probable que gane Carolina Marín y Bruno Hortelano hay que conocer primero sus características. Realizamos una búsqueda. \n",
        "\n",
        "Hay diferentes cosas a tener en cuenta: Carolina Marín no se encuentra en el set de datos, entonces no se le atribuye ningún número. Lo que se ha pensado es añadir a Carolina Marín en el set de datos. Pero ojo, debemos de añadirla al set de datos de prueba, donde no se encuentra la columna objetivo, que es la medalla. \n",
        "\n"
      ],
      "metadata": {
        "id": "dR7shVHiJUeJ"
      }
    },
    {
      "cell_type": "code",
      "source": [
        "col = ['Medal']\n",
        "colum = list(set(df.columns) - set(col))\n",
        "PruebaX = df[colum]\n",
        "PruebaY= df[['Medal']]\n",
        "\n",
        "# Dividir el conjunto de datos en un conjunto de entrenamiento y un conjunto de prueba\n",
        "X_train, X_test, y_train, y_test = train_test_split(PruebaX, PruebaY, test_size=0.2, random_state=42)"
      ],
      "metadata": {
        "id": "FQjYyYxHgifF"
      },
      "execution_count": 30,
      "outputs": []
    },
    {
      "cell_type": "code",
      "source": [
        "nueva_fila = pd.DataFrame({'Name': \"Carolina Marín\", 'Age': 29, 'Height': 172, 'Weight': 65, 'Sport': \"Badminton\", 'NOC': \"ESP\", 'Event': \"Badminton Women's Singles\", 'Games':\"2016 Summer\", 'Sex':\"F\"}, index=[271116])\n",
        "PruebaX = PruebaX.append(nueva_fila, ignore_index=True)"
      ],
      "metadata": {
        "colab": {
          "base_uri": "https://localhost:8080/"
        },
        "id": "acptfEaIgtGw",
        "outputId": "9f7ebb1f-6c80-4bea-a331-e553067c2bed"
      },
      "execution_count": 31,
      "outputs": [
        {
          "output_type": "stream",
          "name": "stderr",
          "text": [
            "<ipython-input-31-c4353d7579bb>:2: FutureWarning: The frame.append method is deprecated and will be removed from pandas in a future version. Use pandas.concat instead.\n",
            "  PruebaX = PruebaX.append(nueva_fila, ignore_index=True)\n"
          ]
        }
      ]
    },
    {
      "cell_type": "markdown",
      "source": [
        "Se ha añadido la fila con las características de Carolina Marín al set de datos, para que la función *Label Encoder* le atribuya un número. A la hora de entrenar el modelo vamos a quitar dicha columna así vemos que tal se comporta con datos que nunca a visto, y a la función predict, se le va a pasar la fila que hemos añadido para que prediga la medalla."
      ],
      "metadata": {
        "id": "4KdupCIVejfB"
      }
    },
    {
      "cell_type": "code",
      "source": [
        "le = LabelEncoder()\n",
        "\n",
        "for col in PruebaX.columns:\n",
        "    if PruebaX[col].dtype == 'object':\n",
        "        PruebaX[col] = le.fit_transform(PruebaX[col])\n",
        "\n",
        "for col in PruebaY.columns:\n",
        "    if PruebaY[col].dtype == 'object':\n",
        "        PruebaY[col] = le.fit_transform(PruebaY[col])\n",
        "\n",
        "x = PruebaX.iloc[:-1]\n",
        "\n",
        "predecir = PruebaX.tail(1)\n",
        "\n",
        "\n",
        "X_train, X_test, y_train, y_test = train_test_split(x, PruebaY, test_size=0.3, random_state=42)\n",
        "\n",
        "model = KNeighborsClassifier(n_neighbors=11, metric=\"euclidean\")\n",
        "model.fit(x, PruebaY)\n",
        "\n",
        "y_pred = model.predict(predecir)\n",
        "print(y_pred)"
      ],
      "metadata": {
        "id": "xqIDYUpmbZKF",
        "outputId": "c5959768-33e4-4921-90cd-a2d1537e7c41",
        "colab": {
          "base_uri": "https://localhost:8080/"
        }
      },
      "execution_count": 32,
      "outputs": [
        {
          "output_type": "stream",
          "name": "stderr",
          "text": [
            "<ipython-input-32-e7d1f1d268aa>:9: SettingWithCopyWarning: \n",
            "A value is trying to be set on a copy of a slice from a DataFrame.\n",
            "Try using .loc[row_indexer,col_indexer] = value instead\n",
            "\n",
            "See the caveats in the documentation: https://pandas.pydata.org/pandas-docs/stable/user_guide/indexing.html#returning-a-view-versus-a-copy\n",
            "  PruebaY[col] = le.fit_transform(PruebaY[col])\n",
            "/usr/local/lib/python3.9/dist-packages/sklearn/neighbors/_classification.py:215: DataConversionWarning: A column-vector y was passed when a 1d array was expected. Please change the shape of y to (n_samples,), for example using ravel().\n",
            "  return self._fit(X, y)\n"
          ]
        },
        {
          "output_type": "stream",
          "name": "stdout",
          "text": [
            "[2]\n"
          ]
        }
      ]
    },
    {
      "cell_type": "markdown",
      "source": [
        "Se ha predicho que Carolina Marín no va a obtener medalla."
      ],
      "metadata": {
        "id": "GDclDOEsfTz9"
      }
    },
    {
      "cell_type": "code",
      "source": [
        "col = ['Medal']\n",
        "colum = list(set(df.columns) - set(col))\n",
        "PruebaX = df[colum]\n",
        "PruebaY= df[['Medal']]\n",
        "\n",
        "# Dividir el conjunto de datos en un conjunto de entrenamiento y un conjunto de prueba\n",
        "X_train, X_test, y_train, y_test = train_test_split(PruebaX, PruebaY, test_size=0.2, random_state=42)"
      ],
      "metadata": {
        "id": "IIQwY5SzhGvU"
      },
      "execution_count": 33,
      "outputs": []
    },
    {
      "cell_type": "code",
      "source": [
        "nueva_fila = pd.DataFrame({'Name': \"Bruno Hortelano\", 'Age': 31, 'Height': 181, 'Weight': 72, 'Sport': \"Athletics\", 'NOC': \"AUS\", 'Event': \"Athletics Men's 200 metres\", 'Games':\"2016 Summer\", 'Sex':\"M\"}, index=[271116])\n",
        "PruebaX = PruebaX.append(nueva_fila, ignore_index=True)"
      ],
      "metadata": {
        "id": "pVoxoDJVfiUD",
        "outputId": "536407ee-186f-4219-80fd-c9daee1112b1",
        "colab": {
          "base_uri": "https://localhost:8080/"
        }
      },
      "execution_count": 34,
      "outputs": [
        {
          "output_type": "stream",
          "name": "stderr",
          "text": [
            "<ipython-input-34-e99408520a95>:2: FutureWarning: The frame.append method is deprecated and will be removed from pandas in a future version. Use pandas.concat instead.\n",
            "  PruebaX = PruebaX.append(nueva_fila, ignore_index=True)\n"
          ]
        }
      ]
    },
    {
      "cell_type": "code",
      "source": [
        "le = LabelEncoder()\n",
        "\n",
        "for col in PruebaX.columns:\n",
        "    if PruebaX[col].dtype == 'object':\n",
        "        PruebaX[col] = le.fit_transform(PruebaX[col])\n",
        "\n",
        "for col in PruebaY.columns:\n",
        "    if PruebaY[col].dtype == 'object':\n",
        "        PruebaY[col] = le.fit_transform(PruebaY[col])\n",
        "\n",
        "x = PruebaX.iloc[:-1]\n",
        "\n",
        "predecir = PruebaX.tail(1)\n",
        "\n",
        "\n",
        "X_train, X_test, y_train, y_test = train_test_split(x, PruebaY, test_size=0.3, random_state=42)\n",
        "\n",
        "model = KNeighborsClassifier(n_neighbors=11, metric=\"euclidean\")\n",
        "model.fit(x, PruebaY)\n",
        "\n",
        "y_pred = model.predict(predecir)\n",
        "print(y_pred)"
      ],
      "metadata": {
        "id": "iqy-aFJogYK7",
        "outputId": "2c691255-ac86-44d8-e1a2-c96a6effa7ec",
        "colab": {
          "base_uri": "https://localhost:8080/"
        }
      },
      "execution_count": 35,
      "outputs": [
        {
          "output_type": "stream",
          "name": "stderr",
          "text": [
            "<ipython-input-35-e7d1f1d268aa>:9: SettingWithCopyWarning: \n",
            "A value is trying to be set on a copy of a slice from a DataFrame.\n",
            "Try using .loc[row_indexer,col_indexer] = value instead\n",
            "\n",
            "See the caveats in the documentation: https://pandas.pydata.org/pandas-docs/stable/user_guide/indexing.html#returning-a-view-versus-a-copy\n",
            "  PruebaY[col] = le.fit_transform(PruebaY[col])\n",
            "/usr/local/lib/python3.9/dist-packages/sklearn/neighbors/_classification.py:215: DataConversionWarning: A column-vector y was passed when a 1d array was expected. Please change the shape of y to (n_samples,), for example using ravel().\n",
            "  return self._fit(X, y)\n"
          ]
        },
        {
          "output_type": "stream",
          "name": "stdout",
          "text": [
            "[2]\n"
          ]
        }
      ]
    },
    {
      "cell_type": "markdown",
      "source": [
        "Nuestro algoritmo ha predicho que Bruno Hortelano no va a tener medalla.\n",
        "\n",
        "\n",
        "En ambos casos se ha decidido predecir, los juegos de verano de 2016. Se ha buscado información y sabemos que estos juegos fueron en Rio de Janeiro, y Carolina Marín sí que consiguió medalla en esos juegos, ganó la medalla de oro. Sin embargo, Bruno Hortelano no consiguió medalla en esos juegos. \n",
        "\n",
        "Para predecir que medalla van a obtener la selección femenina de Baloncesto hay que reducir el dataset. Ya que variables como el nombre, el peso o la edad, no vamos a poder ponerlas. Así que utilizaremos columnas como: Sport, Sex, Games, Event y NOC. Por otra parte debemos de eliminar las columnas que tengan los valores que vamos a predecir, ya que en el entrenamiento de muestra **no** pueden ver los valores que vamos a predecir. "
      ],
      "metadata": {
        "id": "t_TcpFtSh126"
      }
    },
    {
      "cell_type": "code",
      "source": [
        "col = ['Medal']\n",
        "colum = list(set(df.columns) - set(col))\n",
        "PruebaX = df[colum]\n",
        "PruebaY= df[['Medal']]\n",
        "\n",
        "# Dividir el conjunto de datos en un conjunto de entrenamiento y un conjunto de prueba\n",
        "X_train, X_test, y_train, y_test = train_test_split(PruebaX, PruebaY, test_size=0.2, random_state=42)\n"
      ],
      "metadata": {
        "id": "q5v0xXVtjrRk"
      },
      "execution_count": 36,
      "outputs": []
    },
    {
      "cell_type": "code",
      "source": [
        "data =  df[(df['Event'] != \"Basketball Women's Basketball\") | (df['NOC'] != 'ESP') | (df['Games'] != \"2016 summer\")] \n",
        "\n",
        "\n",
        "PruebaX=data[['Games','NOC', 'Event', 'Sex', 'Sport']]\n",
        "PruebaY= data[['Medal']]\n",
        "\n",
        "new_row_X = {'Games': \"2016 summer\", 'NOC': \"ESP\", 'Event': \"Basketball Women's Basketball\"}\n",
        "PruebaX = PruebaX.append(new_row_X, ignore_index=True)\n",
        "\n",
        "le = LabelEncoder()\n",
        "\n",
        "for col in PruebaX.columns:\n",
        "    if PruebaX[col].dtype == 'object':\n",
        "        PruebaX[col] = le.fit_transform(PruebaX[col])\n",
        "\n",
        "for col in PruebaY.columns:\n",
        "    if PruebaY[col].dtype == 'object':\n",
        "        PruebaY[col] = le.fit_transform(PruebaY[col])\n",
        "\n",
        "PruebaX_except_last = PruebaX.iloc[:-1]\n",
        "ultima_fila = PruebaX.tail(1)\n",
        "\n",
        "\n",
        "X_train, X_test, y_train, y_test = train_test_split(PruebaX_except_last, PruebaY, test_size=0.3, random_state=42)\n",
        "\n",
        "model = KNeighborsClassifier(n_neighbors=11, metric=\"euclidean\")\n",
        "model.fit(PruebaX_except_last, PruebaY)\n",
        "\n",
        "y_pred = model.predict(ultima_fila)\n",
        "print(y_pred)"
      ],
      "metadata": {
        "id": "RsCo-4e5kZB8",
        "outputId": "96944b27-8173-4cb2-f577-de70a3a60db6",
        "colab": {
          "base_uri": "https://localhost:8080/"
        }
      },
      "execution_count": 37,
      "outputs": [
        {
          "output_type": "stream",
          "name": "stderr",
          "text": [
            "<ipython-input-37-e4e37bb4b268>:8: FutureWarning: The frame.append method is deprecated and will be removed from pandas in a future version. Use pandas.concat instead.\n",
            "  PruebaX = PruebaX.append(new_row_X, ignore_index=True)\n",
            "<ipython-input-37-e4e37bb4b268>:18: SettingWithCopyWarning: \n",
            "A value is trying to be set on a copy of a slice from a DataFrame.\n",
            "Try using .loc[row_indexer,col_indexer] = value instead\n",
            "\n",
            "See the caveats in the documentation: https://pandas.pydata.org/pandas-docs/stable/user_guide/indexing.html#returning-a-view-versus-a-copy\n",
            "  PruebaY[col] = le.fit_transform(PruebaY[col])\n",
            "/usr/local/lib/python3.9/dist-packages/sklearn/neighbors/_classification.py:215: DataConversionWarning: A column-vector y was passed when a 1d array was expected. Please change the shape of y to (n_samples,), for example using ravel().\n",
            "  return self._fit(X, y)\n"
          ]
        },
        {
          "output_type": "stream",
          "name": "stdout",
          "text": [
            "[2]\n"
          ]
        }
      ]
    },
    {
      "cell_type": "markdown",
      "source": [
        "La Selección Femenina de Baloncesto no va a conseguir medalla."
      ],
      "metadata": {
        "id": "UWQ6rmo0nfeD"
      }
    },
    {
      "cell_type": "markdown",
      "source": [
        "Como conclusiones: "
      ],
      "metadata": {
        "id": "1Umzl3hwnlfc"
      }
    }
  ]
}